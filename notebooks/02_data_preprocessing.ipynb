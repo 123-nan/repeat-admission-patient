{
 "cells": [
  {
   "attachments": {},
   "cell_type": "markdown",
   "metadata": {},
   "source": [
    "## 1. Loading required libraries"
   ]
  },
  {
   "cell_type": "code",
   "execution_count": 14,
   "metadata": {},
   "outputs": [],
   "source": [
    "import pandas as pd\n",
    "import numpy as np\n",
    "import matplotlib.pyplot as plt\n",
    "import os\n",
    "\n",
    "pd.set_option(\"display.max_columns\", None)\n",
    "\n",
    "from src.utils import MappingData"
   ]
  },
  {
   "attachments": {},
   "cell_type": "markdown",
   "metadata": {},
   "source": [
    "## 2. Reading raw data "
   ]
  },
  {
   "cell_type": "code",
   "execution_count": 15,
   "metadata": {},
   "outputs": [
    {
     "name": "stdout",
     "output_type": "stream",
     "text": [
      "(4049136, 82)\n"
     ]
    }
   ],
   "source": [
    "path = os.path.join(\"../data\", \"treatments_2017-2020\")\n",
    "df = pd.read_parquet(path + \".parquet\")\n",
    "print(df.shape)"
   ]
  },
  {
   "attachments": {},
   "cell_type": "markdown",
   "metadata": {},
   "source": [
    "## 3. Processing"
   ]
  },
  {
   "cell_type": "code",
   "execution_count": 16,
   "metadata": {},
   "outputs": [],
   "source": [
    "# dropping rows where SUB1(Clients primary substance use at admission) is unknown\n",
    "df = df[df[\"SUB1\"] != 1].reset_index(drop=True)\n",
    "df = df[df[\"NOPRIOR\"] != -9].reset_index(drop=True)\n",
    "\n",
    "# defining a NUM_SUBS feature which tells the total number of substances taken by a patient. Here we just sums all the FLG\n",
    "# features for each record\n",
    "df[\"NUM_SUBS\"] = df.filter(regex=\"FLG$\", axis=1).sum(axis=1)"
   ]
  },
  {
   "cell_type": "code",
   "execution_count": 17,
   "metadata": {},
   "outputs": [],
   "source": [
    "# Mapping the features to their respective categories as decribed in the Data table. The required class(MappingData)\n",
    "# is in utils.py file under the src folder [[ src/utils.py  ]]\n",
    "mapping_obj = MappingData()  # defining a object for mapping data\n",
    "\n",
    "\n",
    "df[\"AGE\"] = df[\"AGE\"].apply(lambda x: mapping_obj.mapping_AGE(x))\n",
    "df[\"GENDER\"] = df[\"GENDER\"].apply(lambda x: mapping_obj.mapping_GENDER(x))\n",
    "df[\"RACE\"] = df[\"RACE\"].apply(lambda x: mapping_obj.mapping_RACE(x))\n",
    "df[\"ETHNIC\"] = df[\"ETHNIC\"].apply(lambda x: mapping_obj.mapping_ETHNIC(x))\n",
    "\n",
    "df[\"MARSTAT\"] = df[\"MARSTAT\"].apply(lambda x: mapping_obj.mapping_MARSTAT(x))\n",
    "df[\"EDUC\"] = df[\"EDUC\"].apply(lambda x: mapping_obj.mapping_EDUC(x))\n",
    "df[\"EMPLOY\"] = df[\"EMPLOY\"].apply(lambda x: mapping_obj.mapping_EMPLOY(x))\n",
    "df[\"PREG\"] = df[\"PREG\"].apply(lambda x: mapping_obj.mapping_PREG(x))\n",
    "\n",
    "df[\"VET\"] = df[\"VET\"].apply(lambda x: mapping_obj.mapping_VET(x))\n",
    "df[\"LIVARAG\"] = df[\"LIVARAG\"].apply(lambda x: mapping_obj.mapping_LIVARAG(x))\n",
    "df[\"PRIMINC\"] = df[\"PRIMINC\"].apply(lambda x: mapping_obj.mapping_PRIMINC(x))\n",
    "df[\"ARRESTS\"] = df[\"ARRESTS\"].apply(lambda x: mapping_obj.mapping_ARRESTS(x))\n",
    "\n",
    "df[\"DIVISION\"] = df[\"DIVISION\"].apply(lambda x: mapping_obj.mapping_DIVISION(x))\n",
    "df[\"SERVICES\"] = df[\"SERVICES\"].apply(lambda x: mapping_obj.mapping_SERVICES(x))\n",
    "df[\"DAYWAIT\"] = df[\"DAYWAIT\"].apply(lambda x: mapping_obj.mapping_DAYWAIT(x))\n",
    "df[\"PSOURCE\"] = df[\"PSOURCE\"].apply(lambda x: mapping_obj.mapping_PSOURCE(x))\n",
    "\n",
    "df[\"SUB1\"] = df[\"SUB1\"].apply(lambda x: mapping_obj.mapping_SUB(x))\n",
    "df[\"FREQ1\"] = df[\"FREQ1\"].apply(lambda x: mapping_obj.mapping_FREQ(x))\n",
    "df[\"FRSTUSE1\"] = df[\"FRSTUSE1\"].apply(lambda x: mapping_obj.mapping_FRSTUSE(x))\n",
    "df[\"PSYPROB\"] = df[\"PSYPROB\"].apply(lambda x: mapping_obj.mapping_PSYPROB(x))\n",
    "\n",
    "df[\"HLTHINS\"] = df[\"HLTHINS\"].apply(lambda x: mapping_obj.mapping_HLTHINS(x))\n",
    "df[\"FREQ_ATND_SELF_HELP\"] = df[\"FREQ_ATND_SELF_HELP\"].apply(\n",
    "    lambda x: mapping_obj.mapping_FREQ_ATND_SELF_HELP(x)\n",
    ")\n",
    "df[\"NOPRIOR\"] = df[\"NOPRIOR\"].apply(lambda x: mapping_obj.mapping_NOPRIOR(x))\n",
    "df[\"NUM_SUBS\"] = df[\"NUM_SUBS\"].apply(lambda x: mapping_obj.mapping_NUM_SUBS(x))"
   ]
  },
  {
   "attachments": {},
   "cell_type": "markdown",
   "metadata": {},
   "source": [
    "## 4. Saving preprocessed data "
   ]
  },
  {
   "cell_type": "code",
   "execution_count": 18,
   "metadata": {},
   "outputs": [
    {
     "name": "stdout",
     "output_type": "stream",
     "text": [
      "(3638892, 83)\n"
     ]
    }
   ],
   "source": [
    "# defining the path wto save preprocessed data\n",
    "path = os.path.join(\"../data\", \"treatments_2017-2020\" + \"_preprocessed\" + \".parquet\")\n",
    "df.to_parquet(path)\n",
    "\n",
    "print(df.shape)"
   ]
  }
 ],
 "metadata": {
  "kernelspec": {
   "display_name": "Python 3",
   "language": "python",
   "name": "python3"
  },
  "language_info": {
   "codemirror_mode": {
    "name": "ipython",
    "version": 3
   },
   "file_extension": ".py",
   "mimetype": "text/x-python",
   "name": "python",
   "nbconvert_exporter": "python",
   "pygments_lexer": "ipython3",
   "version": "3.8.0"
  },
  "orig_nbformat": 4
 },
 "nbformat": 4,
 "nbformat_minor": 2
}
