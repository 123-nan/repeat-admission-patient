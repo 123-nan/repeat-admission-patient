{
 "cells": [
  {
   "attachments": {},
   "cell_type": "markdown",
   "metadata": {},
   "source": [
    "## 1. Loading libraries"
   ]
  },
  {
   "cell_type": "code",
   "execution_count": 29,
   "metadata": {},
   "outputs": [],
   "source": [
    "import pandas as pd\n",
    "import numpy as np\n",
    "import matplotlib.pyplot as plt\n",
    "import os\n",
    "import time\n",
    "import pickle\n",
    "import seaborn as sns\n",
    "pd.set_option('display.max_columns', None)\n",
    "import warnings\n",
    "warnings.filterwarnings('ignore')\n",
    "from sklearn.model_selection import train_test_split\n",
    "from sklearn.preprocessing import OneHotEncoder\n",
    "from sklearn.tree import DecisionTreeClassifier\n",
    "from sklearn import metrics\n",
    "from sklearn.metrics import confusion_matrix, classification_report, accuracy_score, precision_score, recall_score, f1_score, roc_auc_score\n",
    "from sklearn.model_selection import GridSearchCV\n",
    "from sklearn.model_selection import cross_val_score\n",
    "from sklearn.naive_bayes import MultinomialNB\n",
    "from sklearn.linear_model import LogisticRegression\n",
    "from sklearn.svm import LinearSVC\n",
    "from sklearn.ensemble import BaggingClassifier,RandomForestClassifier, GradientBoostingClassifier, AdaBoostClassifier, StackingClassifier\n",
    "from sklearn.model_selection import GridSearchCV, RandomizedSearchCV\n",
    "from xgboost import XGBClassifier\n",
    "from sklearn.metrics import confusion_matrix, classification_report, accuracy_score, precision_score, recall_score, f1_score, roc_auc_score\n"
   ]
  },
  {
   "attachments": {},
   "cell_type": "markdown",
   "metadata": {},
   "source": [
    "## 2. Loading data which needs to be trained"
   ]
  },
  {
   "cell_type": "code",
   "execution_count": 30,
   "metadata": {},
   "outputs": [
    {
     "name": "stdout",
     "output_type": "stream",
     "text": [
      "(3638892, 22)\n"
     ]
    }
   ],
   "source": [
    "path = os.path.join('../data', 'treatments_2017-2020_train')\n",
    "df = pd.read_parquet( path + '.parquet')\n",
    "print(df.shape)\n"
   ]
  },
  {
   "attachments": {},
   "cell_type": "markdown",
   "metadata": {},
   "source": [
    "Selecting only a batch of data since the dataset is quite huge"
   ]
  },
  {
   "cell_type": "code",
   "execution_count": 31,
   "metadata": {},
   "outputs": [],
   "source": [
    "batch = 10000\n",
    "df = df.sample(batch,random_state=42).reset_index(drop=True)\n",
    "\n",
    "X = df.drop(\"NOPRIOR\", axis=1)\n",
    "y = pd.DataFrame(df[\"NOPRIOR\"])\n"
   ]
  },
  {
   "attachments": {},
   "cell_type": "markdown",
   "metadata": {},
   "source": [
    "## 3. Splitting the dataset into train(70%) and test(30%)"
   ]
  },
  {
   "cell_type": "code",
   "execution_count": 32,
   "metadata": {},
   "outputs": [],
   "source": [
    "X_train, X_test, y_train, y_test = train_test_split(X, y, test_size=0.30, random_state=42, stratify=y)\n",
    "\n",
    "X_train.to_parquet( os.path.join('../data', 'X_train' + '.parquet')    )\n",
    "y_train.to_parquet( os.path.join('../data', 'y_train' + '.parquet')  )\n",
    "\n",
    "X_test.to_parquet( os.path.join('../data', 'X_test' + '.parquet')    )\n",
    "y_test.to_parquet( os.path.join('../data', 'y_test' + '.parquet')  )"
   ]
  },
  {
   "attachments": {},
   "cell_type": "markdown",
   "metadata": {},
   "source": [
    "## 4. Performing One hot encoding to the train set "
   ]
  },
  {
   "cell_type": "code",
   "execution_count": 33,
   "metadata": {},
   "outputs": [],
   "source": [
    "# features which needs to be one hot encoded\n",
    "columns_one_hot = ['GENDER', 'RACE', 'ETHNIC', 'MARSTAT', 'EMPLOY', 'VET' ,\t'LIVARAG',\t'PRIMINC',\n",
    "                   'DIVISION',\t'SERVICES' ,  'PSOURCE' , \t'SUB1' , \t'FREQ1', \n",
    "                   'PSYPROB' ,\t'FREQ_ATND_SELF_HELP']"
   ]
  },
  {
   "cell_type": "code",
   "execution_count": 34,
   "metadata": {},
   "outputs": [],
   "source": [
    "# def ohe class\n",
    "ohe = OneHotEncoder(sparse=False) \n",
    "\n",
    "# reset index on X_train since we will need it to concatenate \n",
    "X_train = X_train.reset_index(drop=True)\n",
    "# fit the X_train data \n",
    "ohe.fit( X_train[columns_one_hot] )\n",
    "\n",
    "# save the encoder(in the artifacts folder) since it will be required further for unseen test data\n",
    "path_to_encoder = os.path.join(  '../artifacts', 'encoder' + '.pkl')\n",
    "pickle.dump(ohe, open(path_to_encoder, 'wb'))\n"
   ]
  },
  {
   "cell_type": "code",
   "execution_count": 35,
   "metadata": {},
   "outputs": [
    {
     "name": "stdout",
     "output_type": "stream",
     "text": [
      "X_train shape : (2547224, 73), y_train shape : (2547224, 1) \n"
     ]
    }
   ],
   "source": [
    "# transform X_train with the encoded features. Here we drop the original categorical features \n",
    "ohe_X_train_df = pd.DataFrame(ohe.transform(X_train[columns_one_hot]), columns=ohe.get_feature_names_out())\n",
    "X_train = X_train.drop(columns=columns_one_hot, axis=1)\n",
    "X_train = pd.concat([X_train,ohe_X_train_df], axis=1 )\n",
    "y_train = y_train.reset_index(drop=True)\n",
    "\n",
    "\n",
    "print( 'X_train shape : {}, y_train shape : {} '.format(  X_train.shape, y_train.shape  ))"
   ]
  },
  {
   "attachments": {},
   "cell_type": "markdown",
   "metadata": {},
   "source": [
    "## 5. Train XGBoost model with basic tuning. \n",
    "\n",
    "We didn't try many models due to lack of time and assuming that boosting models generaly works better for tabular datasets."
   ]
  },
  {
   "cell_type": "code",
   "execution_count": 36,
   "metadata": {},
   "outputs": [
    {
     "name": "stdout",
     "output_type": "stream",
     "text": [
      "Time taken by model training : 9268.389284849167\n"
     ]
    }
   ],
   "source": [
    "\n",
    "\n",
    "start = time.time()\n",
    "\n",
    "\n",
    "model = XGBClassifier()\n",
    "\n",
    "# hyperparameters\n",
    "parameters = {\n",
    "                    'learning_rate':[.1,.01,.05,.001],\n",
    "                    'n_estimators': [8,16,32,64,128,256]\n",
    "                }\n",
    "\n",
    "# Type of scoring used to compare parameter combinations\n",
    "scorer = metrics.make_scorer(metrics.accuracy_score)\n",
    "\n",
    "#  Randomized search\n",
    "randomized_search_obj = RandomizedSearchCV(model, parameters,cv=3)\n",
    "randomized_search_obj = randomized_search_obj.fit(X_train, y_train)\n",
    "\n",
    "# Set the clf to the best combination of parameters\n",
    "best_model = randomized_search_obj.best_estimator_\n",
    "\n",
    "# Fit the best algorithm to the data.\n",
    "best_model.fit(X_train, y_train)\n",
    "\n",
    "# save model\n",
    "path_to_model = os.path.join(  '../artifacts', 'best_model' + '.pkl')\n",
    "pickle.dump(best_model, open(path_to_model, 'wb'))\n",
    "\n",
    "\n",
    "end = time.time()\n",
    "\n",
    "\n",
    "print('Time taken by model training : {}'.format(end-start))"
   ]
  },
  {
   "cell_type": "code",
   "execution_count": null,
   "metadata": {},
   "outputs": [],
   "source": []
  },
  {
   "attachments": {},
   "cell_type": "markdown",
   "metadata": {},
   "source": [
    "## 6. Evaluation"
   ]
  },
  {
   "cell_type": "code",
   "execution_count": 41,
   "metadata": {},
   "outputs": [],
   "source": [
    "def metrics_report(model,features,target):\n",
    "\n",
    "\n",
    "    predictions = model.predict(features)\n",
    "#    features = pd.get_dummies(features, columns=columns_one_hot, drop_first=True)\n",
    "    acc = accuracy_score(target, predictions)  # to compute Accuracy\n",
    "    recall = recall_score(target, predictions)  # to compute Recall\n",
    "    precision = precision_score(target, predictions)  # to compute Precision\n",
    "    f1 = f1_score(target, predictions)  # to compute F1-score\n",
    "\n",
    "        # creating a dataframe of metrics\n",
    "    df_metrics = pd.DataFrame({\n",
    "            \"Accuracy\": acc,\n",
    "            \"Recall\": recall,\n",
    "            \"Precision\": precision,\n",
    "            \"F1 Score\": f1,\n",
    "            },index=[0],)\n",
    "\n",
    "    return df_metrics\n"
   ]
  },
  {
   "cell_type": "code",
   "execution_count": 81,
   "metadata": {},
   "outputs": [
    {
     "name": "stdout",
     "output_type": "stream",
     "text": [
      "Training set metrics ::\n"
     ]
    },
    {
     "data": {
      "text/html": [
       "<div>\n",
       "<style scoped>\n",
       "    .dataframe tbody tr th:only-of-type {\n",
       "        vertical-align: middle;\n",
       "    }\n",
       "\n",
       "    .dataframe tbody tr th {\n",
       "        vertical-align: top;\n",
       "    }\n",
       "\n",
       "    .dataframe thead th {\n",
       "        text-align: right;\n",
       "    }\n",
       "</style>\n",
       "<table border=\"1\" class=\"dataframe\">\n",
       "  <thead>\n",
       "    <tr style=\"text-align: right;\">\n",
       "      <th></th>\n",
       "      <th>Accuracy</th>\n",
       "      <th>Recall</th>\n",
       "      <th>Precision</th>\n",
       "      <th>F1 Score</th>\n",
       "    </tr>\n",
       "  </thead>\n",
       "  <tbody>\n",
       "    <tr>\n",
       "      <th>0</th>\n",
       "      <td>0.743991</td>\n",
       "      <td>0.854379</td>\n",
       "      <td>0.772287</td>\n",
       "      <td>0.811262</td>\n",
       "    </tr>\n",
       "  </tbody>\n",
       "</table>\n",
       "</div>"
      ],
      "text/plain": [
       "   Accuracy    Recall  Precision  F1 Score\n",
       "0  0.743991  0.854379   0.772287  0.811262"
      ]
     },
     "execution_count": 81,
     "metadata": {},
     "output_type": "execute_result"
    }
   ],
   "source": [
    "metrics_train = metrics_report(best_model,X_train,y_train)\n",
    "print('Training set metrics ::')\n",
    "metrics_train\n"
   ]
  },
  {
   "cell_type": "code",
   "execution_count": 79,
   "metadata": {},
   "outputs": [],
   "source": [
    "# transform X_test with the encoded features. Here we drop the original categorical features \n",
    "\n",
    "#loading test data \n",
    "X_test = pd.read_parquet('../data/X_test.parquet')\n",
    "y_test = pd.read_parquet('../data/y_test.parquet')\n",
    "\n",
    "X_test = X_test.reset_index(drop=True)\n",
    "y_test = y_test.reset_index(drop=True)\n",
    "\n",
    "\n",
    "ohe_X_test_df = pd.DataFrame(ohe.transform(X_test[columns_one_hot]), columns=ohe.get_feature_names_out())\n",
    "X_test = X_test.drop(columns=columns_one_hot, axis=1)\n",
    "X_test = pd.concat([X_test,ohe_X_test_df], axis=1 )"
   ]
  },
  {
   "cell_type": "code",
   "execution_count": 82,
   "metadata": {},
   "outputs": [
    {
     "name": "stdout",
     "output_type": "stream",
     "text": [
      "Test set metrics :: \n"
     ]
    },
    {
     "data": {
      "text/html": [
       "<div>\n",
       "<style scoped>\n",
       "    .dataframe tbody tr th:only-of-type {\n",
       "        vertical-align: middle;\n",
       "    }\n",
       "\n",
       "    .dataframe tbody tr th {\n",
       "        vertical-align: top;\n",
       "    }\n",
       "\n",
       "    .dataframe thead th {\n",
       "        text-align: right;\n",
       "    }\n",
       "</style>\n",
       "<table border=\"1\" class=\"dataframe\">\n",
       "  <thead>\n",
       "    <tr style=\"text-align: right;\">\n",
       "      <th></th>\n",
       "      <th>Accuracy</th>\n",
       "      <th>Recall</th>\n",
       "      <th>Precision</th>\n",
       "      <th>F1 Score</th>\n",
       "    </tr>\n",
       "  </thead>\n",
       "  <tbody>\n",
       "    <tr>\n",
       "      <th>0</th>\n",
       "      <td>0.742259</td>\n",
       "      <td>0.852991</td>\n",
       "      <td>0.771093</td>\n",
       "      <td>0.809977</td>\n",
       "    </tr>\n",
       "  </tbody>\n",
       "</table>\n",
       "</div>"
      ],
      "text/plain": [
       "   Accuracy    Recall  Precision  F1 Score\n",
       "0  0.742259  0.852991   0.771093  0.809977"
      ]
     },
     "execution_count": 82,
     "metadata": {},
     "output_type": "execute_result"
    }
   ],
   "source": [
    "metrics_test = metrics_report(best_model,X_test,y_test)\n",
    "print('Test set metrics :: ')\n",
    "metrics_test"
   ]
  },
  {
   "cell_type": "code",
   "execution_count": null,
   "metadata": {},
   "outputs": [],
   "source": []
  },
  {
   "attachments": {},
   "cell_type": "markdown",
   "metadata": {},
   "source": [
    "# Confusion matrix "
   ]
  },
  {
   "cell_type": "code",
   "execution_count": 100,
   "metadata": {},
   "outputs": [
    {
     "data": {
      "text/plain": [
       "Text(50.722222222222214, 0.5, 'Actual')"
      ]
     },
     "execution_count": 100,
     "metadata": {},
     "output_type": "execute_result"
    },
    {
     "data": {
      "image/png": "[encoded data removed]",
      "text/plain": [
       "<Figure size 640x480 with 2 Axes>"
      ]
     },
     "metadata": {},
     "output_type": "display_data"
    }
   ],
   "source": [
    "from sklearn.metrics import confusion_matrix, ConfusionMatrixDisplay\n",
    "\n",
    "cm = confusion_matrix(y_test, best_model.predict(X_test), labels=best_model.classes_)\n",
    "#disp = ConfusionMatrixDisplay(confusion_matrix=cm,display_labels=best_model.classes_)\n",
    "\n",
    "#disp.plot()\n",
    "\n",
    "#plt.show()\n",
    "sns.heatmap(cm,annot=True,fmt=\".0f\", cmap='inferno')\n",
    "plt.xlabel('Prediction')\n",
    "plt.ylabel('Actual')"
   ]
  },
  {
   "cell_type": "code",
   "execution_count": null,
   "metadata": {},
   "outputs": [],
   "source": []
  }
 ],
 "metadata": {
  "kernelspec": {
   "display_name": "Python 3",
   "language": "python",
   "name": "python3"
  },
  "language_info": {
   "codemirror_mode": {
    "name": "ipython",
    "version": 3
   },
   "file_extension": ".py",
   "mimetype": "text/x-python",
   "name": "python",
   "nbconvert_exporter": "python",
   "pygments_lexer": "ipython3",
   "version": "3.8.0"
  },
  "orig_nbformat": 4
 },
 "nbformat": 4,
 "nbformat_minor": 2
}
