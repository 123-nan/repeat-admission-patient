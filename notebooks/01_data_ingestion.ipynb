{
 "cells": [
  {
   "attachments": {},
   "cell_type": "markdown",
   "id": "52c3b4a3",
   "metadata": {},
   "source": [
    "## 1. Loading required libraries"
   ]
  },
  {
   "cell_type": "code",
   "execution_count": 1,
   "id": "f76900f6",
   "metadata": {},
   "outputs": [],
   "source": [
    "import pandas as pd\n",
    "import numpy as np\n",
    "import matplotlib.pyplot as plt\n",
    "import os\n",
    "pd.set_option('display.max_columns', None)\n"
   ]
  },
  {
   "cell_type": "code",
   "execution_count": 2,
   "id": "dfa30ef8",
   "metadata": {},
   "outputs": [],
   "source": [
    "# This class reads data from the csv file and stores in a parquet format for easy access\n",
    "\n",
    "class ReadData():\n",
    "\n",
    "    def __init__(self, path):\n",
    "        self.path = path\n",
    "\n",
    "    def read_data_and_save_as_parquet_format(self):\n",
    "        '''\n",
    "        Reads data as a csv file and saves as parquet format for fast accessing \n",
    "        '''\n",
    "\n",
    "        df =pd.read_csv(self.path + '.csv')\n",
    "        df.to_parquet(self.path + '.parquet')\n"
   ]
  },
  {
   "cell_type": "code",
   "execution_count": 3,
   "id": "f7a3af13",
   "metadata": {},
   "outputs": [
    {
     "name": "stdout",
     "output_type": "stream",
     "text": [
      "Reading file : ../data/treatments_2017-2020\n",
      "Saved file as parquet format : ../data/treatments_2017-2020.parquet\n"
     ]
    }
   ],
   "source": [
    "if __name__ == '__main__':\n",
    "    dir_data = os.path.join( 'data')\n",
    "    CHECK_DIR = os.path.isdir(dir_data)\n",
    "    if not CHECK_DIR:\n",
    "        os.makedirs(dir_data)\n",
    "\n",
    "\n",
    "    path_to_file = os.path.join( '../data' , 'treatments_2017-2020' )\n",
    "    read_data = ReadData(path_to_file)\n",
    "    print('Reading file : {}'.format(path_to_file))\n",
    "    read_data.read_data_and_save_as_parquet_format()\n",
    "    print('Saved file as parquet format : {}'.format(path_to_file + '.parquet'))\n",
    "    "
   ]
  },
  {
   "cell_type": "code",
   "execution_count": null,
   "id": "ab3afa3a",
   "metadata": {},
   "outputs": [],
   "source": []
  }
 ],
 "metadata": {
  "kernelspec": {
   "display_name": "Python 3 (ipykernel)",
   "language": "python",
   "name": "python3"
  },
  "language_info": {
   "codemirror_mode": {
    "name": "ipython",
    "version": 3
   },
   "file_extension": ".py",
   "mimetype": "text/x-python",
   "name": "python",
   "nbconvert_exporter": "python",
   "pygments_lexer": "ipython3",
   "version": "3.8.0"
  }
 },
 "nbformat": 4,
 "nbformat_minor": 5
}
