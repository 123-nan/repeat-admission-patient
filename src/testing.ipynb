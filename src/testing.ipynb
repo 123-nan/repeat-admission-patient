{
 "cells": [
  {
   "cell_type": "code",
   "execution_count": 2,
   "metadata": {},
   "outputs": [],
   "source": [
    "import pandas as pd\n",
    "import numpy as np\n",
    "import matplotlib.pyplot as plt\n",
    "import os\n",
    "pd.set_option('display.max_columns', None)"
   ]
  },
  {
   "cell_type": "code",
   "execution_count": 3,
   "metadata": {},
   "outputs": [],
   "source": [
    "df_treatments = pd.read_parquet('../Datasets_light/treatments_2017-2020.parquet')\n",
    "\n",
    "df_treatments = df_treatments[df_treatments['SUB1'] != 1].reset_index(drop=True)\n",
    "df_treatments = df_treatments[df_treatments['NOPRIOR'] != -9].reset_index(drop=True)\n"
   ]
  },
  {
   "cell_type": "code",
   "execution_count": null,
   "metadata": {},
   "outputs": [],
   "source": [
    "\n",
    "import pyarrow.parquet as pq\n",
    "\n",
    "parquet_file = pq.ParquetFile('../Datasets_light/treatments_2017-2020.parquet')\n",
    "\n",
    "\n",
    "for batch in parquet_file.iter_batches():\n",
    "    print(\"RecordBatch\")\n",
    "    df_treatments = batch.to_pandas()\n",
    "    print(\"batch_df:\", df_treatments)"
   ]
  },
  {
   "cell_type": "code",
   "execution_count": null,
   "metadata": {},
   "outputs": [],
   "source": [
    "df_treatments.shape"
   ]
  },
  {
   "cell_type": "code",
   "execution_count": null,
   "metadata": {},
   "outputs": [],
   "source": [
    "df_treatments.columns"
   ]
  },
  {
   "cell_type": "code",
   "execution_count": null,
   "metadata": {},
   "outputs": [],
   "source": [
    "df_treatments['AGE']"
   ]
  },
  {
   "cell_type": "code",
   "execution_count": null,
   "metadata": {},
   "outputs": [],
   "source": [
    "import numpy as np\n",
    "import pandas as pd\n",
    "\n",
    "\n",
    "def mapping_AGE(x):\n",
    "    if x in [1,2]:\n",
    "        return '12-17 years old'\n",
    "    elif x in [3,4,5]:\n",
    "        return '18-29 years old'\n",
    "    elif x in [6,7]:\n",
    "        return '30-39 years old'\n",
    "    elif x in [8,9]:\n",
    "        return '40-49 years old'\n",
    "    elif x in [10,11]:\n",
    "        return '50-64 years old'\n",
    "    elif x in [12]:\n",
    "        return '65+ years old'\n",
    "    \n",
    "\n",
    "\n",
    "def mapping_GENDER(x):\n",
    "    if x == 1:\n",
    "        return 'Male'\n",
    "    elif x == 2:\n",
    "        return 'Female'\n",
    "\n",
    "\n",
    "def mapping_RACE(x):\n",
    "    if x == 1:\n",
    "        return 'Alaska Native'\n",
    "    elif x == 2:\n",
    "        return 'American Indian'\n",
    "    elif x == 3 or x == 9:\n",
    "        return 'Hawaii, Pacific Islander'\n",
    "    elif x == 4:\n",
    "        return 'Black'\n",
    "    elif x == 5:\n",
    "        return 'White'\n",
    "    elif x == 6:\n",
    "        return 'Asian'\n",
    "    elif x == 7:\n",
    "        return 'Other race'\n",
    "    elif x == 8:\n",
    "        return 'Two or more races'\n",
    "    \n",
    "\n",
    "def mapping_ETHNIC(x):\n",
    "    if x in [1,2,3,5]:\n",
    "        return \"Hispanic\"\n",
    "    elif x in [4]:\n",
    "        return \"Not Hispanic\"\n",
    "    \n",
    "\n",
    "\n",
    "\n",
    "def mapping_MARSTAT(x):\n",
    "    if x == 1:\n",
    "        return \"Never married\"\n",
    "    elif x == 2:\n",
    "        return \"Now married\"\n",
    "    elif x == 3:\n",
    "        return \"Separated\"\n",
    "    elif x == 4:\n",
    "        return 'Divorced/widowed'\n",
    "    \n",
    "\n",
    "def mapping_EDUC(x):\n",
    "    if x == 1:\n",
    "        return \"No schooling\"\n",
    "    elif x == 2:\n",
    "        return \"Grades 9-11\"\n",
    "    elif x == 3:\n",
    "        return \"Grade 12\"\n",
    "    elif x == 4:\n",
    "        return '1-3 years of college'\n",
    "    elif x ==5:\n",
    "        return '4 years of college, BA/BS, or more'\n",
    "    \n",
    "\n",
    "def mapping_EMPLOY(x):\n",
    "    if x == 1:\n",
    "        return 'Full-time'\n",
    "    elif x == 2:\n",
    "        return \"Part-time\"\n",
    "    elif x == 3:\n",
    "        return \"Unemployed\"\n",
    "    elif x == 4:\n",
    "        return 'Not in labor force'\n",
    "    \n",
    "\n",
    "\n",
    "def mapping_PREG(x):\n",
    "    if x == 1:\n",
    "        return 'Pregnant'\n",
    "    elif x == 2:\n",
    "        return \"Not pregnant\"\n",
    "    \n",
    "\n",
    "def mapping_VET(x):\n",
    "    if x == 1:\n",
    "        return 'Veteran'\n",
    "    elif x == 2:\n",
    "        return \"Not veteran\"\n",
    "    \n",
    "\n",
    "\n",
    "\n",
    "def mapping_LIVARAG(x):\n",
    "    if x == 1:\n",
    "        return 'Homeless'\n",
    "    elif x == 2:\n",
    "        return \"Dependent living\"\n",
    "    elif x == 3:\n",
    "        return \"Independent living\"\n",
    "    \n",
    "\n",
    "def mapping_PRIMINC(x):\n",
    "    if x == 1:\n",
    "        return 'Wages/salary'\n",
    "    elif x == 2:\n",
    "        return \"Public assistance\"\n",
    "    elif x == 3:\n",
    "        return \"Retirement/pension, disability\"\n",
    "    elif x == 4:\n",
    "        return 'Other'\n",
    "    elif x == 5:\n",
    "        return 'None'\n",
    "    \n",
    "\n",
    "\n",
    "\n",
    "def mapping_ARRESTS(x):\n",
    "    if x == 0:\n",
    "        return 'None'\n",
    "    elif x == 1:\n",
    "        return \"Once\"\n",
    "    elif x == 2:\n",
    "        return \"Two or more times\"\n",
    "  \n",
    "\n",
    "\n",
    "def mapping_DIVISION(x):\n",
    "    if x== 0:\n",
    "        return 'U.S. territories'\n",
    "    elif x == 1:\n",
    "        return 'New England'\n",
    "    elif x == 2:\n",
    "        return 'Middle Atlantic'\n",
    "    elif x == 3:\n",
    "        return 'East North Central'\n",
    "    elif x == 4:\n",
    "        return 'West North Central'\n",
    "    elif x == 5:\n",
    "        return 'South Atlantic'\n",
    "    elif x == 6:\n",
    "        return 'East South Central'\n",
    "    elif x == 7:\n",
    "        return 'West South Central'\n",
    "    elif x == 8:\n",
    "        return 'Mountain'\n",
    "    elif x == 9:\n",
    "        return 'Pacific'\n",
    "    \n",
    "\n",
    "\n",
    "def mapping_SERVICES(x):\n",
    "    if x== [1,2]:\n",
    "        return 'Detox'\n",
    "    elif x == [3,4,5]:\n",
    "        return 'Rehab/residential'\n",
    "    elif x == [6,7,8]:\n",
    "        return 'Ambulatory'\n",
    "    \n",
    "\n",
    "def mapping_DAYWAIT(x):\n",
    "    if x== [0,1,2]:\n",
    "        return '0-14 days'\n",
    "    elif x == [3]:\n",
    "        return '15-30 days'\n",
    "    elif x == [4]:\n",
    "        return '31+ days'\n",
    "    \n",
    "\n",
    "\n",
    "def mapping_PSOURCE(x):\n",
    "    if x == 1:\n",
    "        return 'Individual'\n",
    "    elif x == 2:\n",
    "        return 'Alcohol/drug provider'\n",
    "    elif x == 3:\n",
    "        return 'Other Health Care provider'\n",
    "    elif x == 4:\n",
    "        return 'School'\n",
    "    elif x == 5:\n",
    "        return 'Employer'\n",
    "    elif x == 6:\n",
    "        return 'Community'\n",
    "    elif x == 7:\n",
    "        return 'Court'\n",
    "    \n",
    "\n",
    "\n",
    "def mapping_SUB(x):\n",
    "    if x == 2:\n",
    "        return 'Alcohol'\n",
    "    elif x == 3:\n",
    "        return 'Cocaine/Crack'\n",
    "    elif x == 4:\n",
    "        return 'Marijuana/Hashish'\n",
    "    elif x == 5:\n",
    "        return 'Heroin'\n",
    "    elif x == 6 or x == 7:\n",
    "        return 'Opiates or Methadone'\n",
    "    elif x == 10:\n",
    "        return 'Methamphetamine'\n",
    "    elif x == 11 or x == 12:\n",
    "        return 'Other Amphetamines or Stimulants'\n",
    "    elif x == 13 or x == 14:\n",
    "        return 'Benzodiazepines or Tranquilizers'\n",
    "    elif x == 8 or x == 9:\n",
    "        return 'PCP or Other Hallucinogens'\n",
    "    elif x >= 15 & x <= 20:\n",
    "        return 'Other'\n",
    "    \n",
    "\n",
    "def mapping_FREQ(x):\n",
    "    if x == 1:\n",
    "        return 'No use in the past month'\n",
    "    elif x == 2:\n",
    "        return 'Some use'\n",
    "    elif x == 3:\n",
    "        return 'Daily use'\n",
    "\n",
    "\n",
    "\n",
    "def mapping_FRSTUSE(x):\n",
    "    if x == 1:\n",
    "        return '11 years and under'\n",
    "    elif x == 2 or x == 3:\n",
    "        return '12-17 years'\n",
    "    elif x == 4 or x == 5:\n",
    "        return '18-24 years'\n",
    "    elif x == 6:\n",
    "        return '25-29 years'\n",
    "    elif x == 7:\n",
    "        return '30 years and older'\n",
    "    \n",
    "\n",
    "\n",
    "def mapping_PSYPROB(x):\n",
    "    if x == 1:\n",
    "        return 'Yes'\n",
    "    elif x == 2:\n",
    "        return 'No'\n",
    "    \n",
    "\n",
    "\n",
    "def mapping_HLTHINS(x):\n",
    "    if x in [1,2,3]:\n",
    "        return 'Yes'\n",
    "    elif x == 4:\n",
    "        return 'No'\n",
    "    \n",
    "\n",
    "\n",
    "def mapping_FREQ_ATND_SELF_HELP(x):\n",
    "    if x == 1:\n",
    "        return 'No'\n",
    "    elif x in [2,3,4,5] :\n",
    "        return 'Yes'\n",
    "    \n",
    "\n",
    "\n",
    "def mapping_NOPRIOR(x):\n",
    "    if x == 0:\n",
    "        return 0\n",
    "    elif x == 1:\n",
    "        return 1\n",
    "    \n",
    "\n"
   ]
  },
  {
   "cell_type": "code",
   "execution_count": null,
   "metadata": {},
   "outputs": [],
   "source": []
  },
  {
   "cell_type": "code",
   "execution_count": 42,
   "metadata": {},
   "outputs": [
    {
     "name": "stdout",
     "output_type": "stream",
     "text": [
      "(4049136, 82)\n"
     ]
    }
   ],
   "source": [
    "path = os.path.join('../' + 'data', 'treatments_2017-2020')\n",
    "\n",
    "df = pd.read_parquet( path + '.parquet')\n",
    "print(df.shape)\n",
    "\n",
    "\n",
    "df_orig = df.copy()"
   ]
  },
  {
   "cell_type": "code",
   "execution_count": 43,
   "metadata": {},
   "outputs": [],
   "source": [
    "# dropping rows where SUB1 is unkown\n",
    "df = df[df['SUB1'] != 1].reset_index(drop=True)\n",
    "df = df[df['NOPRIOR'] != -9].reset_index(drop=True)"
   ]
  },
  {
   "cell_type": "code",
   "execution_count": 4,
   "metadata": {},
   "outputs": [
    {
     "data": {
      "text/plain": [
       "Index(['REASON', 'FRSTUSE2', 'EMPLOY_D', 'MARSTAT', 'PRIMINC', 'TRNQFLG',\n",
       "       'NOPRIOR', 'PREG', 'METHUSE', 'FRSTUSE3', 'DETNLF_D', 'FREQ2', 'SUB2',\n",
       "       'INHFLG', 'SUB1_D', 'ALCDRUG', 'SERVICES', 'AGE', 'ETHNIC',\n",
       "       'SERVICES_D', 'DETNLF', 'PRIMPAY', 'HERFLG', 'IDU', 'REGION', 'LOS',\n",
       "       'FREQ_ATND_SELF_HELP_D', 'SEDHPFLG', 'SUB3', 'BENZFLG', 'OPSYNFLG',\n",
       "       'FREQ3_D', 'ALCFLG', 'SUB2_D', 'OTCFLG', 'HLTHINS', 'DIVISION',\n",
       "       'GENDER', 'STFIPS', 'ROUTE3', 'FRSTUSE1', 'AMPHFLG', 'PCPFLG',\n",
       "       'PSOURCE', 'COKEFLG', 'MTHAMFLG', 'SUB3_D', 'DAYWAIT', 'CBSA',\n",
       "       'PSYPROB', 'RACE', 'ROUTE1', 'DETCRIM', 'VET', 'ARRESTS_D', 'MARFLG',\n",
       "       'FREQ1_D', 'STIMFLG', 'LIVARAG_D', 'FREQ1', 'SUB1', 'DISYR', 'BARBFLG',\n",
       "       'EMPLOY', 'LIVARAG', 'FREQ2_D', 'HALLFLG', 'ROUTE2', 'ARRESTS',\n",
       "       'FREQ_ATND_SELF_HELP', 'EDUC', 'DSMCRIT', 'METHFLG', 'FREQ3', 'CASEID',\n",
       "       'OTHERFLG', 'cbsatitle', 'metropolitanmicropolitanstatis',\n",
       "       'countycountyequivalent', 'statename', 'fipscountycode',\n",
       "       'centraloutlyingcounty'],\n",
       "      dtype='object')"
      ]
     },
     "execution_count": 4,
     "metadata": {},
     "output_type": "execute_result"
    }
   ],
   "source": [
    "df.columns"
   ]
  },
  {
   "cell_type": "code",
   "execution_count": null,
   "metadata": {},
   "outputs": [],
   "source": [
    "df['AGE'] = df['AGE'].apply(mapping_AGE)\n",
    "df['AGE'] = pd.Categorical(df['AGE'], categories= sorted(df['AGE'].unique())    , ordered=True)\n",
    "labels,categories = pd.factorize( df['AGE'], sort = True)\n",
    "df['AGE'] = labels"
   ]
  },
  {
   "cell_type": "code",
   "execution_count": null,
   "metadata": {},
   "outputs": [],
   "source": [
    "pd.factorize( df['AGE'], sort = True)[1]"
   ]
  },
  {
   "cell_type": "code",
   "execution_count": null,
   "metadata": {},
   "outputs": [],
   "source": [
    "df['AGE'] = pd.Categorical(df['AGE'], categories= sorted(df['AGE'].unique())    , ordered=True)"
   ]
  },
  {
   "cell_type": "code",
   "execution_count": null,
   "metadata": {},
   "outputs": [],
   "source": [
    "df['AGE'] = pd.factorize( df['AGE'], sort = True)"
   ]
  },
  {
   "cell_type": "code",
   "execution_count": null,
   "metadata": {},
   "outputs": [],
   "source": [
    "labels,unique = pd.factorize( df['AGE'], sort = True)"
   ]
  },
  {
   "cell_type": "code",
   "execution_count": null,
   "metadata": {},
   "outputs": [],
   "source": [
    "labels"
   ]
  },
  {
   "cell_type": "code",
   "execution_count": null,
   "metadata": {},
   "outputs": [],
   "source": [
    "df['AGE'].value_counts().sort_values()"
   ]
  },
  {
   "cell_type": "code",
   "execution_count": null,
   "metadata": {},
   "outputs": [],
   "source": [
    "pd.Series(labels).value_counts().sort_values()"
   ]
  },
  {
   "cell_type": "code",
   "execution_count": null,
   "metadata": {},
   "outputs": [],
   "source": [
    "unique"
   ]
  },
  {
   "cell_type": "code",
   "execution_count": null,
   "metadata": {},
   "outputs": [],
   "source": [
    "from src.utils import MappingData"
   ]
  },
  {
   "cell_type": "code",
   "execution_count": null,
   "metadata": {},
   "outputs": [],
   "source": [
    "p = MappingData().mapping_FREQ"
   ]
  },
  {
   "cell_type": "code",
   "execution_count": null,
   "metadata": {},
   "outputs": [],
   "source": [
    "MappingData(df_treatments['GENDER']).mapping_FREQ"
   ]
  },
  {
   "cell_type": "code",
   "execution_count": 27,
   "metadata": {},
   "outputs": [],
   "source": [
    "class MappingData():\n",
    "\n",
    "\n",
    "#    def __init__(self,x):\n",
    "#        self.x = x\n",
    "\n",
    "    def mapping_AGE(self,x):\n",
    "        if x in [1,2]:\n",
    "            return '12-17 years old'\n",
    "        elif x in [3,4,5]:\n",
    "            return '18-29 years old'\n",
    "        elif x in [6,7]:\n",
    "            return '30-39 years old'\n",
    "        elif x in [8,9]:\n",
    "            return '40-49 years old'\n",
    "        elif x in [10,11]:\n",
    "            return '50-64 years old'\n",
    "        elif x in [12]:\n",
    "            return '65+ years old'\n",
    "        \n"
   ]
  },
  {
   "cell_type": "code",
   "execution_count": 28,
   "metadata": {},
   "outputs": [],
   "source": [
    "p=MappingData()\n"
   ]
  },
  {
   "cell_type": "code",
   "execution_count": 25,
   "metadata": {},
   "outputs": [],
   "source": [
    "class A:\n",
    "    def a(self, a):\n",
    "        print(a)"
   ]
  },
  {
   "cell_type": "code",
   "execution_count": 26,
   "metadata": {},
   "outputs": [
    {
     "name": "stdout",
     "output_type": "stream",
     "text": [
      "Hello World\n"
     ]
    }
   ],
   "source": [
    "ob = A()\n",
    "ob.a(\"Hello World\")"
   ]
  },
  {
   "cell_type": "code",
   "execution_count": 30,
   "metadata": {},
   "outputs": [
    {
     "data": {
      "text/plain": [
       "0          30-39 years old\n",
       "1          30-39 years old\n",
       "2          18-29 years old\n",
       "3          30-39 years old\n",
       "4          40-49 years old\n",
       "                ...       \n",
       "4049131    50-64 years old\n",
       "4049132    18-29 years old\n",
       "4049133    40-49 years old\n",
       "4049134    30-39 years old\n",
       "4049135    50-64 years old\n",
       "Name: AGE, Length: 4049136, dtype: object"
      ]
     },
     "execution_count": 30,
     "metadata": {},
     "output_type": "execute_result"
    }
   ],
   "source": [
    "df['AGE'].apply(lambda x : p.mapping_AGE(x))"
   ]
  },
  {
   "cell_type": "code",
   "execution_count": 31,
   "metadata": {},
   "outputs": [
    {
     "ename": "TypeError",
     "evalue": "mapping_AGE() missing 1 required positional argument: 'x'",
     "output_type": "error",
     "traceback": [
      "\u001b[0;31m---------------------------------------------------------------------------\u001b[0m",
      "\u001b[0;31mTypeError\u001b[0m                                 Traceback (most recent call last)",
      "\u001b[1;32m/Users/piyush/Desktop/MSD_datathon/src/testing.ipynb Cell 29\u001b[0m in \u001b[0;36m<cell line: 1>\u001b[0;34m()\u001b[0m\n\u001b[0;32m----> <a href='vscode-notebook-cell:/Users/piyush/Desktop/MSD_datathon/src/testing.ipynb#Y136sZmlsZQ%3D%3D?line=0'>1</a>\u001b[0m df[\u001b[39m'\u001b[39m\u001b[39mAGE\u001b[39m\u001b[39m'\u001b[39m]\u001b[39m.\u001b[39mapply(p\u001b[39m.\u001b[39;49mmapping_AGE())\n",
      "\u001b[0;31mTypeError\u001b[0m: mapping_AGE() missing 1 required positional argument: 'x'"
     ]
    }
   ],
   "source": [
    "df['AGE'].apply(p.mapping_AGE())"
   ]
  },
  {
   "cell_type": "code",
   "execution_count": 32,
   "metadata": {},
   "outputs": [],
   "source": [
    "from src.utils import MappingData"
   ]
  },
  {
   "cell_type": "code",
   "execution_count": 33,
   "metadata": {},
   "outputs": [],
   "source": [
    "p=MappingData()"
   ]
  },
  {
   "cell_type": "code",
   "execution_count": 34,
   "metadata": {},
   "outputs": [
    {
     "name": "stdout",
     "output_type": "stream",
     "text": [
      "['__class__', '__delattr__', '__dict__', '__dir__', '__doc__', '__eq__', '__format__', '__ge__', '__getattribute__', '__gt__', '__hash__', '__init__', '__init_subclass__', '__le__', '__lt__', '__module__', '__ne__', '__new__', '__reduce__', '__reduce_ex__', '__repr__', '__setattr__', '__sizeof__', '__str__', '__subclasshook__', '__weakref__', 'mapping_AGE', 'mapping_ARRESTS', 'mapping_DAYWAIT', 'mapping_DIVISION', 'mapping_EDUC', 'mapping_EMPLOY', 'mapping_ETHNIC', 'mapping_FREQ', 'mapping_FREQ_ATND_SELF_HELP', 'mapping_FRSTUSE', 'mapping_GENDER', 'mapping_HLTHINS', 'mapping_LIVARAG', 'mapping_MARSTAT', 'mapping_NOPRIOR', 'mapping_PREG', 'mapping_PRIMINC', 'mapping_PSOURCE', 'mapping_PSYPROB', 'mapping_RACE', 'mapping_SERVICES', 'mapping_SUB', 'mapping_VET']\n"
     ]
    }
   ],
   "source": [
    "print(dir(p))"
   ]
  },
  {
   "cell_type": "code",
   "execution_count": 39,
   "metadata": {},
   "outputs": [],
   "source": [
    "l = dir(p)[26:]"
   ]
  },
  {
   "cell_type": "code",
   "execution_count": 40,
   "metadata": {},
   "outputs": [
    {
     "data": {
      "text/plain": [
       "['mapping_AGE',\n",
       " 'mapping_ARRESTS',\n",
       " 'mapping_DAYWAIT',\n",
       " 'mapping_DIVISION',\n",
       " 'mapping_EDUC',\n",
       " 'mapping_EMPLOY',\n",
       " 'mapping_ETHNIC',\n",
       " 'mapping_FREQ',\n",
       " 'mapping_FREQ_ATND_SELF_HELP',\n",
       " 'mapping_FRSTUSE',\n",
       " 'mapping_GENDER',\n",
       " 'mapping_HLTHINS',\n",
       " 'mapping_LIVARAG',\n",
       " 'mapping_MARSTAT',\n",
       " 'mapping_NOPRIOR',\n",
       " 'mapping_PREG',\n",
       " 'mapping_PRIMINC',\n",
       " 'mapping_PSOURCE',\n",
       " 'mapping_PSYPROB',\n",
       " 'mapping_RACE',\n",
       " 'mapping_SERVICES',\n",
       " 'mapping_SUB',\n",
       " 'mapping_VET']"
      ]
     },
     "execution_count": 40,
     "metadata": {},
     "output_type": "execute_result"
    }
   ],
   "source": [
    "l"
   ]
  },
  {
   "cell_type": "code",
   "execution_count": 41,
   "metadata": {},
   "outputs": [
    {
     "data": {
      "text/plain": [
       "23"
      ]
     },
     "execution_count": 41,
     "metadata": {},
     "output_type": "execute_result"
    }
   ],
   "source": [
    "len(l)"
   ]
  },
  {
   "cell_type": "code",
   "execution_count": 109,
   "metadata": {},
   "outputs": [],
   "source": [
    "df_p = pd.read_parquet('../data/treatments_2017-2020_preprocessed.parquet')"
   ]
  },
  {
   "cell_type": "code",
   "execution_count": 91,
   "metadata": {},
   "outputs": [
    {
     "data": {
      "text/html": [
       "<div>\n",
       "<style scoped>\n",
       "    .dataframe tbody tr th:only-of-type {\n",
       "        vertical-align: middle;\n",
       "    }\n",
       "\n",
       "    .dataframe tbody tr th {\n",
       "        vertical-align: top;\n",
       "    }\n",
       "\n",
       "    .dataframe thead th {\n",
       "        text-align: right;\n",
       "    }\n",
       "</style>\n",
       "<table border=\"1\" class=\"dataframe\">\n",
       "  <thead>\n",
       "    <tr style=\"text-align: right;\">\n",
       "      <th></th>\n",
       "      <th>REASON</th>\n",
       "      <th>FRSTUSE2</th>\n",
       "      <th>EMPLOY_D</th>\n",
       "      <th>MARSTAT</th>\n",
       "      <th>PRIMINC</th>\n",
       "      <th>TRNQFLG</th>\n",
       "      <th>NOPRIOR</th>\n",
       "      <th>PREG</th>\n",
       "      <th>METHUSE</th>\n",
       "      <th>FRSTUSE3</th>\n",
       "      <th>DETNLF_D</th>\n",
       "      <th>FREQ2</th>\n",
       "      <th>SUB2</th>\n",
       "      <th>INHFLG</th>\n",
       "      <th>SUB1_D</th>\n",
       "      <th>ALCDRUG</th>\n",
       "      <th>SERVICES</th>\n",
       "      <th>AGE</th>\n",
       "      <th>ETHNIC</th>\n",
       "      <th>SERVICES_D</th>\n",
       "      <th>DETNLF</th>\n",
       "      <th>PRIMPAY</th>\n",
       "      <th>HERFLG</th>\n",
       "      <th>IDU</th>\n",
       "      <th>REGION</th>\n",
       "      <th>LOS</th>\n",
       "      <th>FREQ_ATND_SELF_HELP_D</th>\n",
       "      <th>SEDHPFLG</th>\n",
       "      <th>SUB3</th>\n",
       "      <th>BENZFLG</th>\n",
       "      <th>OPSYNFLG</th>\n",
       "      <th>FREQ3_D</th>\n",
       "      <th>ALCFLG</th>\n",
       "      <th>SUB2_D</th>\n",
       "      <th>OTCFLG</th>\n",
       "      <th>HLTHINS</th>\n",
       "      <th>DIVISION</th>\n",
       "      <th>GENDER</th>\n",
       "      <th>STFIPS</th>\n",
       "      <th>ROUTE3</th>\n",
       "      <th>FRSTUSE1</th>\n",
       "      <th>AMPHFLG</th>\n",
       "      <th>PCPFLG</th>\n",
       "      <th>PSOURCE</th>\n",
       "      <th>COKEFLG</th>\n",
       "      <th>MTHAMFLG</th>\n",
       "      <th>SUB3_D</th>\n",
       "      <th>DAYWAIT</th>\n",
       "      <th>CBSA</th>\n",
       "      <th>PSYPROB</th>\n",
       "      <th>RACE</th>\n",
       "      <th>ROUTE1</th>\n",
       "      <th>DETCRIM</th>\n",
       "      <th>VET</th>\n",
       "      <th>ARRESTS_D</th>\n",
       "      <th>MARFLG</th>\n",
       "      <th>FREQ1_D</th>\n",
       "      <th>STIMFLG</th>\n",
       "      <th>LIVARAG_D</th>\n",
       "      <th>FREQ1</th>\n",
       "      <th>SUB1</th>\n",
       "      <th>DISYR</th>\n",
       "      <th>BARBFLG</th>\n",
       "      <th>EMPLOY</th>\n",
       "      <th>LIVARAG</th>\n",
       "      <th>FREQ2_D</th>\n",
       "      <th>HALLFLG</th>\n",
       "      <th>ROUTE2</th>\n",
       "      <th>ARRESTS</th>\n",
       "      <th>FREQ_ATND_SELF_HELP</th>\n",
       "      <th>EDUC</th>\n",
       "      <th>DSMCRIT</th>\n",
       "      <th>METHFLG</th>\n",
       "      <th>FREQ3</th>\n",
       "      <th>CASEID</th>\n",
       "      <th>OTHERFLG</th>\n",
       "      <th>cbsatitle</th>\n",
       "      <th>metropolitanmicropolitanstatis</th>\n",
       "      <th>countycountyequivalent</th>\n",
       "      <th>statename</th>\n",
       "      <th>fipscountycode</th>\n",
       "      <th>centraloutlyingcounty</th>\n",
       "    </tr>\n",
       "  </thead>\n",
       "  <tbody>\n",
       "    <tr>\n",
       "      <th>0</th>\n",
       "      <td>6</td>\n",
       "      <td>-9</td>\n",
       "      <td>1</td>\n",
       "      <td>None</td>\n",
       "      <td>None</td>\n",
       "      <td>0</td>\n",
       "      <td>0</td>\n",
       "      <td>Not pregnant</td>\n",
       "      <td>1</td>\n",
       "      <td>-9</td>\n",
       "      <td>-9</td>\n",
       "      <td>-9</td>\n",
       "      <td>1</td>\n",
       "      <td>0</td>\n",
       "      <td>7</td>\n",
       "      <td>2</td>\n",
       "      <td>None</td>\n",
       "      <td>30-39 years old</td>\n",
       "      <td>Not Hispanic</td>\n",
       "      <td>7</td>\n",
       "      <td>-9</td>\n",
       "      <td>-9</td>\n",
       "      <td>0</td>\n",
       "      <td>-9</td>\n",
       "      <td>4</td>\n",
       "      <td>37</td>\n",
       "      <td>-9</td>\n",
       "      <td>0</td>\n",
       "      <td>-9</td>\n",
       "      <td>0</td>\n",
       "      <td>1</td>\n",
       "      <td>-9</td>\n",
       "      <td>0</td>\n",
       "      <td>1</td>\n",
       "      <td>0</td>\n",
       "      <td>None</td>\n",
       "      <td>Pacific</td>\n",
       "      <td>Female</td>\n",
       "      <td>6</td>\n",
       "      <td>-9</td>\n",
       "      <td>25-29 years</td>\n",
       "      <td>0</td>\n",
       "      <td>0</td>\n",
       "      <td>Individual</td>\n",
       "      <td>0</td>\n",
       "      <td>0</td>\n",
       "      <td>1</td>\n",
       "      <td>0-14 days</td>\n",
       "      <td>42020</td>\n",
       "      <td>No</td>\n",
       "      <td>White</td>\n",
       "      <td>1</td>\n",
       "      <td>-9</td>\n",
       "      <td>Not veteran</td>\n",
       "      <td>0</td>\n",
       "      <td>0</td>\n",
       "      <td>1</td>\n",
       "      <td>0</td>\n",
       "      <td>2</td>\n",
       "      <td>Daily use</td>\n",
       "      <td>Opiates or Methadone</td>\n",
       "      <td>2017</td>\n",
       "      <td>0</td>\n",
       "      <td>Part-time</td>\n",
       "      <td>Independent living</td>\n",
       "      <td>-9</td>\n",
       "      <td>0</td>\n",
       "      <td>-9</td>\n",
       "      <td>None</td>\n",
       "      <td>None</td>\n",
       "      <td>Grade 12</td>\n",
       "      <td>-9</td>\n",
       "      <td>0</td>\n",
       "      <td>-9</td>\n",
       "      <td>20171463590</td>\n",
       "      <td>0</td>\n",
       "      <td>San Luis Obispo-Paso Robles-Arroyo Grande, CA</td>\n",
       "      <td>Metropolitan Statistical Area</td>\n",
       "      <td>San Luis Obispo County</td>\n",
       "      <td>California</td>\n",
       "      <td>79</td>\n",
       "      <td>Central</td>\n",
       "    </tr>\n",
       "    <tr>\n",
       "      <th>1</th>\n",
       "      <td>4</td>\n",
       "      <td>6</td>\n",
       "      <td>4</td>\n",
       "      <td>None</td>\n",
       "      <td>None</td>\n",
       "      <td>0</td>\n",
       "      <td>1</td>\n",
       "      <td>Pregnant</td>\n",
       "      <td>1</td>\n",
       "      <td>-9</td>\n",
       "      <td>-9</td>\n",
       "      <td>3</td>\n",
       "      <td>10</td>\n",
       "      <td>0</td>\n",
       "      <td>5</td>\n",
       "      <td>2</td>\n",
       "      <td>None</td>\n",
       "      <td>30-39 years old</td>\n",
       "      <td>Not Hispanic</td>\n",
       "      <td>7</td>\n",
       "      <td>-9</td>\n",
       "      <td>-9</td>\n",
       "      <td>1</td>\n",
       "      <td>1</td>\n",
       "      <td>4</td>\n",
       "      <td>15</td>\n",
       "      <td>-9</td>\n",
       "      <td>0</td>\n",
       "      <td>-9</td>\n",
       "      <td>0</td>\n",
       "      <td>0</td>\n",
       "      <td>-9</td>\n",
       "      <td>0</td>\n",
       "      <td>10</td>\n",
       "      <td>0</td>\n",
       "      <td>None</td>\n",
       "      <td>Pacific</td>\n",
       "      <td>Female</td>\n",
       "      <td>6</td>\n",
       "      <td>-9</td>\n",
       "      <td>30 years and older</td>\n",
       "      <td>0</td>\n",
       "      <td>0</td>\n",
       "      <td>Other Health Care provider</td>\n",
       "      <td>0</td>\n",
       "      <td>1</td>\n",
       "      <td>1</td>\n",
       "      <td>0-14 days</td>\n",
       "      <td>17020</td>\n",
       "      <td>No</td>\n",
       "      <td>White</td>\n",
       "      <td>4</td>\n",
       "      <td>-9</td>\n",
       "      <td>Not veteran</td>\n",
       "      <td>0</td>\n",
       "      <td>0</td>\n",
       "      <td>1</td>\n",
       "      <td>0</td>\n",
       "      <td>2</td>\n",
       "      <td>Daily use</td>\n",
       "      <td>Heroin</td>\n",
       "      <td>2017</td>\n",
       "      <td>0</td>\n",
       "      <td>Not in labor force</td>\n",
       "      <td>Independent living</td>\n",
       "      <td>-9</td>\n",
       "      <td>0</td>\n",
       "      <td>4</td>\n",
       "      <td>None</td>\n",
       "      <td>None</td>\n",
       "      <td>Grade 12</td>\n",
       "      <td>-9</td>\n",
       "      <td>0</td>\n",
       "      <td>-9</td>\n",
       "      <td>20171390962</td>\n",
       "      <td>0</td>\n",
       "      <td>Chico, CA</td>\n",
       "      <td>Metropolitan Statistical Area</td>\n",
       "      <td>Butte County</td>\n",
       "      <td>California</td>\n",
       "      <td>7</td>\n",
       "      <td>Central</td>\n",
       "    </tr>\n",
       "    <tr>\n",
       "      <th>2</th>\n",
       "      <td>3</td>\n",
       "      <td>5</td>\n",
       "      <td>3</td>\n",
       "      <td>Never married</td>\n",
       "      <td>Public assistance</td>\n",
       "      <td>0</td>\n",
       "      <td>1</td>\n",
       "      <td>Pregnant</td>\n",
       "      <td>1</td>\n",
       "      <td>-9</td>\n",
       "      <td>-9</td>\n",
       "      <td>2</td>\n",
       "      <td>10</td>\n",
       "      <td>0</td>\n",
       "      <td>5</td>\n",
       "      <td>2</td>\n",
       "      <td>None</td>\n",
       "      <td>18-29 years old</td>\n",
       "      <td>Not Hispanic</td>\n",
       "      <td>7</td>\n",
       "      <td>-9</td>\n",
       "      <td>4</td>\n",
       "      <td>1</td>\n",
       "      <td>1</td>\n",
       "      <td>4</td>\n",
       "      <td>36</td>\n",
       "      <td>1</td>\n",
       "      <td>0</td>\n",
       "      <td>1</td>\n",
       "      <td>0</td>\n",
       "      <td>0</td>\n",
       "      <td>-9</td>\n",
       "      <td>0</td>\n",
       "      <td>10</td>\n",
       "      <td>0</td>\n",
       "      <td>Yes</td>\n",
       "      <td>Pacific</td>\n",
       "      <td>Female</td>\n",
       "      <td>2</td>\n",
       "      <td>-9</td>\n",
       "      <td>18-24 years</td>\n",
       "      <td>0</td>\n",
       "      <td>0</td>\n",
       "      <td>Individual</td>\n",
       "      <td>0</td>\n",
       "      <td>1</td>\n",
       "      <td>1</td>\n",
       "      <td>0-14 days</td>\n",
       "      <td>11260</td>\n",
       "      <td>Yes</td>\n",
       "      <td>White</td>\n",
       "      <td>4</td>\n",
       "      <td>-9</td>\n",
       "      <td>Not veteran</td>\n",
       "      <td>0</td>\n",
       "      <td>0</td>\n",
       "      <td>1</td>\n",
       "      <td>0</td>\n",
       "      <td>3</td>\n",
       "      <td>Daily use</td>\n",
       "      <td>Heroin</td>\n",
       "      <td>2017</td>\n",
       "      <td>0</td>\n",
       "      <td>Unemployed</td>\n",
       "      <td>Independent living</td>\n",
       "      <td>-9</td>\n",
       "      <td>0</td>\n",
       "      <td>4</td>\n",
       "      <td>None</td>\n",
       "      <td>No</td>\n",
       "      <td>None</td>\n",
       "      <td>-9</td>\n",
       "      <td>0</td>\n",
       "      <td>-9</td>\n",
       "      <td>20171519498</td>\n",
       "      <td>0</td>\n",
       "      <td>Anchorage, AK</td>\n",
       "      <td>Metropolitan Statistical Area</td>\n",
       "      <td>Matanuska-Susitna Borough, Anchorage Municipality</td>\n",
       "      <td>Alaska</td>\n",
       "      <td>170, 20</td>\n",
       "      <td>Central, Outlying</td>\n",
       "    </tr>\n",
       "    <tr>\n",
       "      <th>3</th>\n",
       "      <td>2</td>\n",
       "      <td>3</td>\n",
       "      <td>4</td>\n",
       "      <td>None</td>\n",
       "      <td>None</td>\n",
       "      <td>0</td>\n",
       "      <td>1</td>\n",
       "      <td>Not pregnant</td>\n",
       "      <td>1</td>\n",
       "      <td>-9</td>\n",
       "      <td>-9</td>\n",
       "      <td>3</td>\n",
       "      <td>10</td>\n",
       "      <td>0</td>\n",
       "      <td>5</td>\n",
       "      <td>2</td>\n",
       "      <td>None</td>\n",
       "      <td>30-39 years old</td>\n",
       "      <td>Not Hispanic</td>\n",
       "      <td>7</td>\n",
       "      <td>-9</td>\n",
       "      <td>-9</td>\n",
       "      <td>1</td>\n",
       "      <td>1</td>\n",
       "      <td>4</td>\n",
       "      <td>34</td>\n",
       "      <td>-9</td>\n",
       "      <td>0</td>\n",
       "      <td>-9</td>\n",
       "      <td>0</td>\n",
       "      <td>0</td>\n",
       "      <td>-9</td>\n",
       "      <td>0</td>\n",
       "      <td>10</td>\n",
       "      <td>0</td>\n",
       "      <td>None</td>\n",
       "      <td>Pacific</td>\n",
       "      <td>Female</td>\n",
       "      <td>6</td>\n",
       "      <td>-9</td>\n",
       "      <td>25-29 years</td>\n",
       "      <td>0</td>\n",
       "      <td>0</td>\n",
       "      <td>Individual</td>\n",
       "      <td>0</td>\n",
       "      <td>1</td>\n",
       "      <td>19</td>\n",
       "      <td>0-14 days</td>\n",
       "      <td>41860</td>\n",
       "      <td>No</td>\n",
       "      <td>White</td>\n",
       "      <td>4</td>\n",
       "      <td>-9</td>\n",
       "      <td>Not veteran</td>\n",
       "      <td>0</td>\n",
       "      <td>0</td>\n",
       "      <td>3</td>\n",
       "      <td>0</td>\n",
       "      <td>1</td>\n",
       "      <td>Daily use</td>\n",
       "      <td>Heroin</td>\n",
       "      <td>2017</td>\n",
       "      <td>0</td>\n",
       "      <td>Not in labor force</td>\n",
       "      <td>Homeless</td>\n",
       "      <td>-9</td>\n",
       "      <td>0</td>\n",
       "      <td>4</td>\n",
       "      <td>None</td>\n",
       "      <td>None</td>\n",
       "      <td>Grade 12</td>\n",
       "      <td>-9</td>\n",
       "      <td>0</td>\n",
       "      <td>-9</td>\n",
       "      <td>20171346634</td>\n",
       "      <td>0</td>\n",
       "      <td>San Francisco-Oakland-Hayward, CA</td>\n",
       "      <td>Metropolitan Statistical Area</td>\n",
       "      <td>Contra Costa County, San Francisco County, San...</td>\n",
       "      <td>California</td>\n",
       "      <td>1, 13, 75, 81, 41</td>\n",
       "      <td>Central, Outlying</td>\n",
       "    </tr>\n",
       "    <tr>\n",
       "      <th>4</th>\n",
       "      <td>3</td>\n",
       "      <td>7</td>\n",
       "      <td>4</td>\n",
       "      <td>Divorced/widowed</td>\n",
       "      <td>Other</td>\n",
       "      <td>0</td>\n",
       "      <td>1</td>\n",
       "      <td>Not pregnant</td>\n",
       "      <td>1</td>\n",
       "      <td>4</td>\n",
       "      <td>3</td>\n",
       "      <td>3</td>\n",
       "      <td>10</td>\n",
       "      <td>0</td>\n",
       "      <td>5</td>\n",
       "      <td>2</td>\n",
       "      <td>None</td>\n",
       "      <td>40-49 years old</td>\n",
       "      <td>Not Hispanic</td>\n",
       "      <td>7</td>\n",
       "      <td>3</td>\n",
       "      <td>-9</td>\n",
       "      <td>1</td>\n",
       "      <td>1</td>\n",
       "      <td>1</td>\n",
       "      <td>35</td>\n",
       "      <td>1</td>\n",
       "      <td>0</td>\n",
       "      <td>19</td>\n",
       "      <td>0</td>\n",
       "      <td>0</td>\n",
       "      <td>3</td>\n",
       "      <td>0</td>\n",
       "      <td>10</td>\n",
       "      <td>0</td>\n",
       "      <td>None</td>\n",
       "      <td>Middle Atlantic</td>\n",
       "      <td>Female</td>\n",
       "      <td>36</td>\n",
       "      <td>2</td>\n",
       "      <td>30 years and older</td>\n",
       "      <td>0</td>\n",
       "      <td>0</td>\n",
       "      <td>Other Health Care provider</td>\n",
       "      <td>0</td>\n",
       "      <td>1</td>\n",
       "      <td>19</td>\n",
       "      <td>None</td>\n",
       "      <td>35620</td>\n",
       "      <td>Yes</td>\n",
       "      <td>Alaska Native</td>\n",
       "      <td>4</td>\n",
       "      <td>-9</td>\n",
       "      <td>Not veteran</td>\n",
       "      <td>0</td>\n",
       "      <td>0</td>\n",
       "      <td>1</td>\n",
       "      <td>0</td>\n",
       "      <td>3</td>\n",
       "      <td>Daily use</td>\n",
       "      <td>Heroin</td>\n",
       "      <td>2017</td>\n",
       "      <td>0</td>\n",
       "      <td>Not in labor force</td>\n",
       "      <td>Homeless</td>\n",
       "      <td>-9</td>\n",
       "      <td>0</td>\n",
       "      <td>2</td>\n",
       "      <td>None</td>\n",
       "      <td>No</td>\n",
       "      <td>Grade 12</td>\n",
       "      <td>5</td>\n",
       "      <td>0</td>\n",
       "      <td>3</td>\n",
       "      <td>20171324167</td>\n",
       "      <td>1</td>\n",
       "      <td>New York-Newark-Jersey City, NY-NJ-PA</td>\n",
       "      <td>Metropolitan Statistical Area</td>\n",
       "      <td>New York County, Orange County, Hunterdon Coun...</td>\n",
       "      <td>New Jersey, New York, Pennsylvania</td>\n",
       "      <td>79, 87, 13, 81, 119, 25, 29, 59, 3, 85, 5, 61,...</td>\n",
       "      <td>Central, Outlying</td>\n",
       "    </tr>\n",
       "  </tbody>\n",
       "</table>\n",
       "</div>"
      ],
      "text/plain": [
       "   REASON  FRSTUSE2  EMPLOY_D           MARSTAT            PRIMINC  TRNQFLG   \n",
       "0       6        -9         1              None               None        0  \\\n",
       "1       4         6         4              None               None        0   \n",
       "2       3         5         3     Never married  Public assistance        0   \n",
       "3       2         3         4              None               None        0   \n",
       "4       3         7         4  Divorced/widowed              Other        0   \n",
       "\n",
       "   NOPRIOR          PREG  METHUSE  FRSTUSE3  DETNLF_D  FREQ2  SUB2  INHFLG   \n",
       "0        0  Not pregnant        1        -9        -9     -9     1       0  \\\n",
       "1        1      Pregnant        1        -9        -9      3    10       0   \n",
       "2        1      Pregnant        1        -9        -9      2    10       0   \n",
       "3        1  Not pregnant        1        -9        -9      3    10       0   \n",
       "4        1  Not pregnant        1         4         3      3    10       0   \n",
       "\n",
       "   SUB1_D  ALCDRUG SERVICES              AGE        ETHNIC  SERVICES_D   \n",
       "0       7        2     None  30-39 years old  Not Hispanic           7  \\\n",
       "1       5        2     None  30-39 years old  Not Hispanic           7   \n",
       "2       5        2     None  18-29 years old  Not Hispanic           7   \n",
       "3       5        2     None  30-39 years old  Not Hispanic           7   \n",
       "4       5        2     None  40-49 years old  Not Hispanic           7   \n",
       "\n",
       "   DETNLF  PRIMPAY  HERFLG  IDU  REGION  LOS  FREQ_ATND_SELF_HELP_D  SEDHPFLG   \n",
       "0      -9       -9       0   -9       4   37                     -9         0  \\\n",
       "1      -9       -9       1    1       4   15                     -9         0   \n",
       "2      -9        4       1    1       4   36                      1         0   \n",
       "3      -9       -9       1    1       4   34                     -9         0   \n",
       "4       3       -9       1    1       1   35                      1         0   \n",
       "\n",
       "   SUB3  BENZFLG  OPSYNFLG  FREQ3_D  ALCFLG  SUB2_D  OTCFLG HLTHINS   \n",
       "0    -9        0         1       -9       0       1       0    None  \\\n",
       "1    -9        0         0       -9       0      10       0    None   \n",
       "2     1        0         0       -9       0      10       0     Yes   \n",
       "3    -9        0         0       -9       0      10       0    None   \n",
       "4    19        0         0        3       0      10       0    None   \n",
       "\n",
       "          DIVISION  GENDER  STFIPS  ROUTE3            FRSTUSE1  AMPHFLG   \n",
       "0          Pacific  Female       6      -9         25-29 years        0  \\\n",
       "1          Pacific  Female       6      -9  30 years and older        0   \n",
       "2          Pacific  Female       2      -9         18-24 years        0   \n",
       "3          Pacific  Female       6      -9         25-29 years        0   \n",
       "4  Middle Atlantic  Female      36       2  30 years and older        0   \n",
       "\n",
       "   PCPFLG                     PSOURCE  COKEFLG  MTHAMFLG  SUB3_D    DAYWAIT   \n",
       "0       0                  Individual        0         0       1  0-14 days  \\\n",
       "1       0  Other Health Care provider        0         1       1  0-14 days   \n",
       "2       0                  Individual        0         1       1  0-14 days   \n",
       "3       0                  Individual        0         1      19  0-14 days   \n",
       "4       0  Other Health Care provider        0         1      19       None   \n",
       "\n",
       "    CBSA PSYPROB           RACE  ROUTE1  DETCRIM          VET  ARRESTS_D   \n",
       "0  42020      No          White       1       -9  Not veteran          0  \\\n",
       "1  17020      No          White       4       -9  Not veteran          0   \n",
       "2  11260     Yes          White       4       -9  Not veteran          0   \n",
       "3  41860      No          White       4       -9  Not veteran          0   \n",
       "4  35620     Yes  Alaska Native       4       -9  Not veteran          0   \n",
       "\n",
       "   MARFLG  FREQ1_D  STIMFLG  LIVARAG_D      FREQ1                  SUB1   \n",
       "0       0        1        0          2  Daily use  Opiates or Methadone  \\\n",
       "1       0        1        0          2  Daily use                Heroin   \n",
       "2       0        1        0          3  Daily use                Heroin   \n",
       "3       0        3        0          1  Daily use                Heroin   \n",
       "4       0        1        0          3  Daily use                Heroin   \n",
       "\n",
       "   DISYR  BARBFLG              EMPLOY             LIVARAG  FREQ2_D  HALLFLG   \n",
       "0   2017        0           Part-time  Independent living       -9        0  \\\n",
       "1   2017        0  Not in labor force  Independent living       -9        0   \n",
       "2   2017        0          Unemployed  Independent living       -9        0   \n",
       "3   2017        0  Not in labor force            Homeless       -9        0   \n",
       "4   2017        0  Not in labor force            Homeless       -9        0   \n",
       "\n",
       "   ROUTE2 ARRESTS FREQ_ATND_SELF_HELP      EDUC  DSMCRIT  METHFLG  FREQ3   \n",
       "0      -9    None                None  Grade 12       -9        0     -9  \\\n",
       "1       4    None                None  Grade 12       -9        0     -9   \n",
       "2       4    None                  No      None       -9        0     -9   \n",
       "3       4    None                None  Grade 12       -9        0     -9   \n",
       "4       2    None                  No  Grade 12        5        0      3   \n",
       "\n",
       "        CASEID  OTHERFLG                                      cbsatitle   \n",
       "0  20171463590         0  San Luis Obispo-Paso Robles-Arroyo Grande, CA  \\\n",
       "1  20171390962         0                                      Chico, CA   \n",
       "2  20171519498         0                                  Anchorage, AK   \n",
       "3  20171346634         0              San Francisco-Oakland-Hayward, CA   \n",
       "4  20171324167         1          New York-Newark-Jersey City, NY-NJ-PA   \n",
       "\n",
       "  metropolitanmicropolitanstatis   \n",
       "0  Metropolitan Statistical Area  \\\n",
       "1  Metropolitan Statistical Area   \n",
       "2  Metropolitan Statistical Area   \n",
       "3  Metropolitan Statistical Area   \n",
       "4  Metropolitan Statistical Area   \n",
       "\n",
       "                              countycountyequivalent   \n",
       "0                             San Luis Obispo County  \\\n",
       "1                                       Butte County   \n",
       "2  Matanuska-Susitna Borough, Anchorage Municipality   \n",
       "3  Contra Costa County, San Francisco County, San...   \n",
       "4  New York County, Orange County, Hunterdon Coun...   \n",
       "\n",
       "                            statename   \n",
       "0                          California  \\\n",
       "1                          California   \n",
       "2                              Alaska   \n",
       "3                          California   \n",
       "4  New Jersey, New York, Pennsylvania   \n",
       "\n",
       "                                      fipscountycode centraloutlyingcounty  \n",
       "0                                                 79               Central  \n",
       "1                                                  7               Central  \n",
       "2                                            170, 20     Central, Outlying  \n",
       "3                                  1, 13, 75, 81, 41     Central, Outlying  \n",
       "4  79, 87, 13, 81, 119, 25, 29, 59, 3, 85, 5, 61,...     Central, Outlying  "
      ]
     },
     "execution_count": 91,
     "metadata": {},
     "output_type": "execute_result"
    }
   ],
   "source": [
    "df_p.head()"
   ]
  },
  {
   "cell_type": "code",
   "execution_count": 47,
   "metadata": {},
   "outputs": [
    {
     "data": {
      "text/plain": [
       "Index(['REASON', 'FRSTUSE2', 'EMPLOY_D', 'MARSTAT', 'PRIMINC', 'TRNQFLG',\n",
       "       'NOPRIOR', 'PREG', 'METHUSE', 'FRSTUSE3', 'DETNLF_D', 'FREQ2', 'SUB2',\n",
       "       'INHFLG', 'SUB1_D', 'ALCDRUG', 'SERVICES', 'AGE', 'ETHNIC',\n",
       "       'SERVICES_D', 'DETNLF', 'PRIMPAY', 'HERFLG', 'IDU', 'REGION', 'LOS',\n",
       "       'FREQ_ATND_SELF_HELP_D', 'SEDHPFLG', 'SUB3', 'BENZFLG', 'OPSYNFLG',\n",
       "       'FREQ3_D', 'ALCFLG', 'SUB2_D', 'OTCFLG', 'HLTHINS', 'DIVISION',\n",
       "       'GENDER', 'STFIPS', 'ROUTE3', 'FRSTUSE1', 'AMPHFLG', 'PCPFLG',\n",
       "       'PSOURCE', 'COKEFLG', 'MTHAMFLG', 'SUB3_D', 'DAYWAIT', 'CBSA',\n",
       "       'PSYPROB', 'RACE', 'ROUTE1', 'DETCRIM', 'VET', 'ARRESTS_D', 'MARFLG',\n",
       "       'FREQ1_D', 'STIMFLG', 'LIVARAG_D', 'FREQ1', 'SUB1', 'DISYR', 'BARBFLG',\n",
       "       'EMPLOY', 'LIVARAG', 'FREQ2_D', 'HALLFLG', 'ROUTE2', 'ARRESTS',\n",
       "       'FREQ_ATND_SELF_HELP', 'EDUC', 'DSMCRIT', 'METHFLG', 'FREQ3', 'CASEID',\n",
       "       'OTHERFLG', 'cbsatitle', 'metropolitanmicropolitanstatis',\n",
       "       'countycountyequivalent', 'statename', 'fipscountycode',\n",
       "       'centraloutlyingcounty'],\n",
       "      dtype='object')"
      ]
     },
     "execution_count": 47,
     "metadata": {},
     "output_type": "execute_result"
    }
   ],
   "source": [
    "df_p.columns"
   ]
  },
  {
   "cell_type": "code",
   "execution_count": 50,
   "metadata": {},
   "outputs": [],
   "source": [
    "categories= sorted(df_p['AGE'].unique())"
   ]
  },
  {
   "cell_type": "code",
   "execution_count": 51,
   "metadata": {},
   "outputs": [
    {
     "data": {
      "text/plain": [
       "['12-17 years old',\n",
       " '18-29 years old',\n",
       " '30-39 years old',\n",
       " '40-49 years old',\n",
       " '50-64 years old',\n",
       " '65+ years old']"
      ]
     },
     "execution_count": 51,
     "metadata": {},
     "output_type": "execute_result"
    }
   ],
   "source": [
    "categories"
   ]
  },
  {
   "cell_type": "code",
   "execution_count": 52,
   "metadata": {},
   "outputs": [
    {
     "ename": "TypeError",
     "evalue": "'<' not supported between instances of 'NoneType' and 'str'",
     "output_type": "error",
     "traceback": [
      "\u001b[0;31m---------------------------------------------------------------------------\u001b[0m",
      "\u001b[0;31mTypeError\u001b[0m                                 Traceback (most recent call last)",
      "\u001b[1;32m/Users/piyush/Desktop/MSD_datathon/src/testing.ipynb Cell 41\u001b[0m in \u001b[0;36m<cell line: 1>\u001b[0;34m()\u001b[0m\n\u001b[0;32m----> <a href='vscode-notebook-cell:/Users/piyush/Desktop/MSD_datathon/src/testing.ipynb#Y154sZmlsZQ%3D%3D?line=0'>1</a>\u001b[0m categories\u001b[39m=\u001b[39m \u001b[39msorted\u001b[39;49m(df_p[\u001b[39m'\u001b[39;49m\u001b[39mEDUC\u001b[39;49m\u001b[39m'\u001b[39;49m]\u001b[39m.\u001b[39;49munique())\n",
      "\u001b[0;31mTypeError\u001b[0m: '<' not supported between instances of 'NoneType' and 'str'"
     ]
    }
   ],
   "source": [
    "categories= sorted(df_p['EDUC'].unique())"
   ]
  },
  {
   "cell_type": "code",
   "execution_count": 59,
   "metadata": {},
   "outputs": [
    {
     "data": {
      "text/plain": [
       "EDUC\n",
       "Grade 12                              1683059\n",
       "1-3 years of college                   733248\n",
       "Grades 9-11                            722005\n",
       "4 years of college, BA/BS, or more     219813\n",
       "No schooling                           212137\n",
       "Name: count, dtype: int64"
      ]
     },
     "execution_count": 59,
     "metadata": {},
     "output_type": "execute_result"
    }
   ],
   "source": [
    "df_p['EDUC'].value_counts()"
   ]
  },
  {
   "cell_type": "code",
   "execution_count": 80,
   "metadata": {},
   "outputs": [
    {
     "data": {
      "text/plain": [
       "array(['Grade 12', None, 'Grades 9-11',\n",
       "       '4 years of college, BA/BS, or more', '1-3 years of college',\n",
       "       'No schooling'], dtype=object)"
      ]
     },
     "execution_count": 80,
     "metadata": {},
     "output_type": "execute_result"
    }
   ],
   "source": [
    "df_p['EDUC'].unique()"
   ]
  },
  {
   "cell_type": "code",
   "execution_count": 79,
   "metadata": {},
   "outputs": [
    {
     "data": {
      "text/plain": [
       "['1-3 years of college',\n",
       " '4 years of college, BA/BS, or more',\n",
       " 'Grade 12',\n",
       " 'Grades 9-11',\n",
       " 'No schooling']"
      ]
     },
     "execution_count": 79,
     "metadata": {},
     "output_type": "execute_result"
    }
   ],
   "source": [
    "sorted(['Grade 12', 'Grades 9-11',\n",
    "       '4 years of college, BA/BS, or more', '1-3 years of college',\n",
    "       'No schooling'])"
   ]
  },
  {
   "cell_type": "code",
   "execution_count": 83,
   "metadata": {},
   "outputs": [
    {
     "data": {
      "text/plain": [
       "['12-17 years old',\n",
       " '18-29 years old',\n",
       " '30-39 years old',\n",
       " '40-49 years old',\n",
       " '50-64 years old',\n",
       " '65+ years old']"
      ]
     },
     "execution_count": 83,
     "metadata": {},
     "output_type": "execute_result"
    }
   ],
   "source": [
    "sorted(df_p['AGE'].unique())"
   ]
  },
  {
   "cell_type": "code",
   "execution_count": 85,
   "metadata": {},
   "outputs": [
    {
     "data": {
      "text/plain": [
       "ARRESTS\n",
       "None                 3296772\n",
       "Once                  210213\n",
       "Two or more times      33505\n",
       "Name: count, dtype: int64"
      ]
     },
     "execution_count": 85,
     "metadata": {},
     "output_type": "execute_result"
    }
   ],
   "source": [
    "df_p['ARRESTS'].value_counts()"
   ]
  },
  {
   "cell_type": "code",
   "execution_count": 87,
   "metadata": {},
   "outputs": [
    {
     "data": {
      "text/plain": [
       "array([None], dtype=object)"
      ]
     },
     "execution_count": 87,
     "metadata": {},
     "output_type": "execute_result"
    }
   ],
   "source": [
    "df_p['DAYWAIT'].unique()"
   ]
  },
  {
   "cell_type": "code",
   "execution_count": 103,
   "metadata": {},
   "outputs": [
    {
     "data": {
      "text/plain": [
       "array([None, 'No', 'Yes'], dtype=object)"
      ]
     },
     "execution_count": 103,
     "metadata": {},
     "output_type": "execute_result"
    }
   ],
   "source": [
    " df_p['FREQ_ATND_SELF_HELP'].unique()"
   ]
  },
  {
   "cell_type": "code",
   "execution_count": 101,
   "metadata": {},
   "outputs": [
    {
     "data": {
      "text/plain": [
       "['11 years and under',\n",
       " '12-17 years',\n",
       " '18-24 years',\n",
       " '25-29 years',\n",
       " '30 years and older']"
      ]
     },
     "execution_count": 101,
     "metadata": {},
     "output_type": "execute_result"
    }
   ],
   "source": [
    "sorted(['25-29 years', '30 years and older', '18-24 years', '12-17 years', '11 years and under'])"
   ]
  },
  {
   "cell_type": "code",
   "execution_count": 112,
   "metadata": {},
   "outputs": [
    {
     "data": {
      "text/plain": [
       "1    1511012\n",
       "2    1298826\n",
       "3     805189\n",
       "0      23865\n",
       "Name: count, dtype: int64"
      ]
     },
     "execution_count": 112,
     "metadata": {},
     "output_type": "execute_result"
    }
   ],
   "source": [
    "df.filter(regex='FLG$', axis = 1).sum(axis=1).value_counts()"
   ]
  },
  {
   "cell_type": "code",
   "execution_count": 111,
   "metadata": {},
   "outputs": [
    {
     "data": {
      "text/plain": [
       "NUM_SUBS\n",
       "One sub      1511012\n",
       "Two sub      1298826\n",
       "Three sub     805189\n",
       "Zero sub       23865\n",
       "Name: count, dtype: int64"
      ]
     },
     "execution_count": 111,
     "metadata": {},
     "output_type": "execute_result"
    }
   ],
   "source": [
    "df_p['NUM_SUBS'].value_counts()"
   ]
  },
  {
   "cell_type": "code",
   "execution_count": null,
   "metadata": {},
   "outputs": [],
   "source": []
  },
  {
   "cell_type": "code",
   "execution_count": null,
   "metadata": {},
   "outputs": [],
   "source": []
  },
  {
   "cell_type": "code",
   "execution_count": null,
   "metadata": {},
   "outputs": [],
   "source": []
  },
  {
   "cell_type": "code",
   "execution_count": 4,
   "metadata": {},
   "outputs": [
    {
     "name": "stdout",
     "output_type": "stream",
     "text": [
      "(3638892, 83)\n"
     ]
    }
   ],
   "source": [
    "import pandas as pd\n",
    "import numpy as np\n",
    "import matplotlib.pyplot as plt\n",
    "import os\n",
    "pd.set_option('display.max_columns', None)\n",
    "\n",
    "from src.utils import MappingData\n",
    "\n",
    "path = os.path.join('../data', 'treatments_2017-2020_preprocessed')\n",
    "\n",
    "df = pd.read_parquet( path + '.parquet')\n",
    "print(df.shape)\n",
    "\n",
    "## here we encode data which is ordinal such as AGE, \n",
    "\n",
    "categories = ['12-17 years old', '18-29 years old', '30-39 years old', '40-49 years old', '50-64 years old', '65+ years old']\n",
    "df['AGE'] = pd.Categorical(df['AGE'], categories= categories    , ordered=True)\n",
    "labels,categories = pd.factorize( df['AGE'], sort = True)\n",
    "df['AGE'] = labels\n",
    "\n",
    "\n",
    "categories = ['No schooling', 'Grades 9-11', 'Grade 12', '1-3 years of college', '4 years of college, BA/BS, or more']\n",
    "df['EDUC'] = pd.Categorical(df['EDUC'], categories= categories, ordered=True)\n",
    "labels,categories = pd.factorize( df['EDUC'], sort = True)\n",
    "df['EDUC'] = labels\n",
    "\n",
    "\n",
    "\n",
    "categories = ['None', 'Once', 'Two or more times']\n",
    "df['ARRESTS'] = pd.Categorical(df['ARRESTS'], categories= categories, ordered=True)\n",
    "labels,categories = pd.factorize( df['ARRESTS'], sort = True)\n",
    "df['ARRESTS'] = labels\n",
    "\n",
    "\n",
    "\n",
    "categories = ['0-14 days', '15-30 days', '31+ days']\n",
    "df['DAYWAIT'] = pd.Categorical(df['DAYWAIT'], categories= categories, ordered=True)\n",
    "labels,categories = pd.factorize( df['DAYWAIT'], sort = True)\n",
    "df['DAYWAIT'] = labels\n",
    "\n",
    "\n",
    "\n",
    "categories = ['11 years and under', '12-17 years', '18-24 years', '25-29 years', '30 years and older']\n",
    "df['FRSTUSE1'] = pd.Categorical(df['FRSTUSE1'], categories= categories, ordered=True)\n",
    "labels,categories = pd.factorize( df['FRSTUSE1'], sort = True)\n",
    "df['FRSTUSE1'] = labels\n",
    "\n",
    "\n",
    "\n",
    "# creating a column for no of substances for each patient\n",
    "categories = ['Zero sub', 'One sub', 'Two sub', 'Three sub']\n",
    "df['NUM_SUBS'] = pd.Categorical(df['NUM_SUBS'], categories= categories, ordered=True)\n",
    "labels,categories = pd.factorize( df['NUM_SUBS'], sort = True)\n",
    "df['NUM_SUBS'] = labels\n",
    "\n"
   ]
  },
  {
   "cell_type": "code",
   "execution_count": null,
   "metadata": {},
   "outputs": [],
   "source": []
  },
  {
   "cell_type": "code",
   "execution_count": 21,
   "metadata": {},
   "outputs": [],
   "source": [
    "columns_of_imp = [\n",
    "    \"AGE\",\n",
    "    \"GENDER\",\n",
    "    \"RACE\",\n",
    "    \"ETHNIC\",\n",
    "    \"MARSTAT\",\n",
    "    \"EDUC\",\n",
    "    \"EMPLOY\",\n",
    "    \"PREG\",\n",
    "    \"VET\",\n",
    "    \"LIVARAG\",\n",
    "    \"PRIMINC\",\n",
    "    \"ARRESTS\",\n",
    "    \"DIVISION\",\n",
    "    \"SERVICES\",\n",
    "    \"DAYWAIT\",\n",
    "    \"PSOURCE\",\n",
    "    \"SUB1\",\n",
    "    \"FREQ1\",\n",
    "    \"FRSTUSE1\",\n",
    "    \"PSYPROB\",\n",
    "    \"HLTHINS\",\n",
    "    \"FREQ_ATND_SELF_HELP\",\n",
    "    \"NOPRIOR\",\n",
    "    \"NUM_SUBS\",\n",
    "]"
   ]
  },
  {
   "cell_type": "code",
   "execution_count": null,
   "metadata": {},
   "outputs": [],
   "source": []
  },
  {
   "cell_type": "code",
   "execution_count": 3,
   "metadata": {},
   "outputs": [
    {
     "name": "stdout",
     "output_type": "stream",
     "text": [
      "Intel MKL WARNING: Support of Intel(R) Streaming SIMD Extensions 4.2 (Intel(R) SSE4.2) enabled only processors has been deprecated. Intel oneAPI Math Kernel Library 2025.0 will require Intel(R) Advanced Vector Extensions (Intel(R) AVX) instructions.\n",
      "Intel MKL WARNING: Support of Intel(R) Streaming SIMD Extensions 4.2 (Intel(R) SSE4.2) enabled only processors has been deprecated. Intel oneAPI Math Kernel Library 2025.0 will require Intel(R) Advanced Vector Extensions (Intel(R) AVX) instructions.\n"
     ]
    }
   ],
   "source": [
    "import pandas as pd\n",
    "import numpy as np\n",
    "import matplotlib.pyplot as plt\n",
    "import os\n",
    "pd.set_option('display.max_columns', None)\n",
    "\n",
    "from src.utils import MappingData"
   ]
  },
  {
   "cell_type": "code",
   "execution_count": 19,
   "metadata": {},
   "outputs": [
    {
     "name": "stdout",
     "output_type": "stream",
     "text": [
      "(3638892, 83)\n"
     ]
    }
   ],
   "source": [
    "path = os.path.join('../data', 'treatments_2017-2020_preprocessed')\n",
    "\n",
    "df = pd.read_parquet( path + '.parquet')\n",
    "print(df.shape)\n",
    "\n",
    "## here we encode data which is ordinal such as AGE, \n",
    "\n",
    "categories = ['12-17 years old', '18-29 years old', '30-39 years old', '40-49 years old', '50-64 years old', '65+ years old']\n",
    "df['AGE'] = pd.Categorical(df['AGE'], categories= categories    , ordered=True)\n",
    "labels,categories = pd.factorize( df['AGE'], sort = True)\n",
    "df['AGE'] = labels\n",
    "\n",
    "\n",
    "categories = ['No schooling', 'Grades 9-11', 'Grade 12', '1-3 years of college', '4 years of college, BA/BS, or more']\n",
    "df['EDUC'] = pd.Categorical(df['EDUC'], categories= categories, ordered=True)\n",
    "labels,categories = pd.factorize( df['EDUC'], sort = True)\n",
    "df['EDUC'] = labels\n",
    "\n",
    "\n",
    "\n",
    "categories = ['None', 'Once', 'Two or more times']\n",
    "df['ARRESTS'] = pd.Categorical(df['ARRESTS'], categories= categories, ordered=True)\n",
    "labels,categories = pd.factorize( df['ARRESTS'], sort = True)\n",
    "df['ARRESTS'] = labels\n",
    "\n",
    "\n",
    "\n",
    "categories = ['0-14 days', '15-30 days', '31+ days']\n",
    "df['DAYWAIT'] = pd.Categorical(df['DAYWAIT'], categories= categories, ordered=True)\n",
    "labels,categories = pd.factorize( df['DAYWAIT'], sort = True)\n",
    "df['DAYWAIT'] = labels\n",
    "\n",
    "\n",
    "\n",
    "categories = ['11 years and under', '12-17 years', '18-24 years', '25-29 years', '30 years and older']\n",
    "df['FRSTUSE1'] = pd.Categorical(df['FRSTUSE1'], categories= categories, ordered=True)\n",
    "labels,categories = pd.factorize( df['FRSTUSE1'], sort = True)\n",
    "df['FRSTUSE1'] = labels\n",
    "\n",
    "\n",
    "\n",
    "# creating a column for no of substances for each patient\n",
    "categories = ['Zero sub', 'One sub', 'Two sub', 'Three sub']\n",
    "df['NUM_SUBS'] = pd.Categorical(df['NUM_SUBS'], categories= categories, ordered=True)\n",
    "labels,categories = pd.factorize( df['NUM_SUBS'], sort = True)\n",
    "df['NUM_SUBS'] = labels\n",
    "\n",
    "\n",
    "\n"
   ]
  },
  {
   "cell_type": "code",
   "execution_count": 8,
   "metadata": {},
   "outputs": [],
   "source": [
    "path = os.path.join('../data', 'treatments_2017-2020_preprocessed')\n",
    "\n",
    "df_p = pd.read_parquet( path + '.parquet')"
   ]
  },
  {
   "cell_type": "code",
   "execution_count": 22,
   "metadata": {},
   "outputs": [],
   "source": [
    "df = df[columns_of_imp]"
   ]
  },
  {
   "cell_type": "code",
   "execution_count": null,
   "metadata": {},
   "outputs": [],
   "source": [
    "{ EDUC  :   -1 \n",
    " \n",
    " ARRESTS : -1\n",
    " \n",
    " DAYWAIT : -1\n",
    " \n",
    " FRSTUSE1 : -1\n",
    "\n",
    " \n",
    " }"
   ]
  },
  {
   "cell_type": "code",
   "execution_count": 34,
   "metadata": {},
   "outputs": [],
   "source": [
    "categories = ['12-17 years old', '18-29 years old', '30-39 years old', '40-49 years old', '50-64 years old', '65+ years old']\n",
    "df['AGE'] = pd.Categorical(df['AGE'], categories= categories    , ordered=True)\n",
    "labels,categories = pd.factorize( df['AGE'], sort = True)\n",
    "df['AGE'] = labels"
   ]
  },
  {
   "cell_type": "code",
   "execution_count": 23,
   "metadata": {},
   "outputs": [],
   "source": [
    "df_missing_perc = pd.DataFrame(df.isnull().sum()/df.shape[0] * 100 ).reset_index()\n",
    "df_missing_perc.columns = ['Column', '% missing']"
   ]
  },
  {
   "cell_type": "code",
   "execution_count": 24,
   "metadata": {},
   "outputs": [
    {
     "data": {
      "text/html": [
       "<div>\n",
       "<style scoped>\n",
       "    .dataframe tbody tr th:only-of-type {\n",
       "        vertical-align: middle;\n",
       "    }\n",
       "\n",
       "    .dataframe tbody tr th {\n",
       "        vertical-align: top;\n",
       "    }\n",
       "\n",
       "    .dataframe thead th {\n",
       "        text-align: right;\n",
       "    }\n",
       "</style>\n",
       "<table border=\"1\" class=\"dataframe\">\n",
       "  <thead>\n",
       "    <tr style=\"text-align: right;\">\n",
       "      <th></th>\n",
       "      <th>Column</th>\n",
       "      <th>% missing</th>\n",
       "    </tr>\n",
       "  </thead>\n",
       "  <tbody>\n",
       "    <tr>\n",
       "      <th>0</th>\n",
       "      <td>AGE</td>\n",
       "      <td>0.000000</td>\n",
       "    </tr>\n",
       "    <tr>\n",
       "      <th>1</th>\n",
       "      <td>GENDER</td>\n",
       "      <td>0.038693</td>\n",
       "    </tr>\n",
       "    <tr>\n",
       "      <th>2</th>\n",
       "      <td>RACE</td>\n",
       "      <td>1.326805</td>\n",
       "    </tr>\n",
       "    <tr>\n",
       "      <th>3</th>\n",
       "      <td>ETHNIC</td>\n",
       "      <td>1.601367</td>\n",
       "    </tr>\n",
       "    <tr>\n",
       "      <th>4</th>\n",
       "      <td>MARSTAT</td>\n",
       "      <td>15.207569</td>\n",
       "    </tr>\n",
       "    <tr>\n",
       "      <th>5</th>\n",
       "      <td>EDUC</td>\n",
       "      <td>0.000000</td>\n",
       "    </tr>\n",
       "    <tr>\n",
       "      <th>6</th>\n",
       "      <td>EMPLOY</td>\n",
       "      <td>1.554402</td>\n",
       "    </tr>\n",
       "    <tr>\n",
       "      <th>7</th>\n",
       "      <td>PREG</td>\n",
       "      <td>66.711680</td>\n",
       "    </tr>\n",
       "    <tr>\n",
       "      <th>8</th>\n",
       "      <td>VET</td>\n",
       "      <td>5.518878</td>\n",
       "    </tr>\n",
       "    <tr>\n",
       "      <th>9</th>\n",
       "      <td>LIVARAG</td>\n",
       "      <td>2.470615</td>\n",
       "    </tr>\n",
       "    <tr>\n",
       "      <th>10</th>\n",
       "      <td>PRIMINC</td>\n",
       "      <td>37.659898</td>\n",
       "    </tr>\n",
       "    <tr>\n",
       "      <th>11</th>\n",
       "      <td>ARRESTS</td>\n",
       "      <td>0.000000</td>\n",
       "    </tr>\n",
       "    <tr>\n",
       "      <th>12</th>\n",
       "      <td>DIVISION</td>\n",
       "      <td>0.000000</td>\n",
       "    </tr>\n",
       "    <tr>\n",
       "      <th>13</th>\n",
       "      <td>SERVICES</td>\n",
       "      <td>0.000000</td>\n",
       "    </tr>\n",
       "    <tr>\n",
       "      <th>14</th>\n",
       "      <td>DAYWAIT</td>\n",
       "      <td>0.000000</td>\n",
       "    </tr>\n",
       "    <tr>\n",
       "      <th>15</th>\n",
       "      <td>PSOURCE</td>\n",
       "      <td>1.588066</td>\n",
       "    </tr>\n",
       "    <tr>\n",
       "      <th>16</th>\n",
       "      <td>SUB1</td>\n",
       "      <td>0.656271</td>\n",
       "    </tr>\n",
       "    <tr>\n",
       "      <th>17</th>\n",
       "      <td>FREQ1</td>\n",
       "      <td>6.244483</td>\n",
       "    </tr>\n",
       "    <tr>\n",
       "      <th>18</th>\n",
       "      <td>FRSTUSE1</td>\n",
       "      <td>0.000000</td>\n",
       "    </tr>\n",
       "    <tr>\n",
       "      <th>19</th>\n",
       "      <td>PSYPROB</td>\n",
       "      <td>9.670801</td>\n",
       "    </tr>\n",
       "    <tr>\n",
       "      <th>20</th>\n",
       "      <td>HLTHINS</td>\n",
       "      <td>57.529435</td>\n",
       "    </tr>\n",
       "    <tr>\n",
       "      <th>21</th>\n",
       "      <td>FREQ_ATND_SELF_HELP</td>\n",
       "      <td>14.572375</td>\n",
       "    </tr>\n",
       "    <tr>\n",
       "      <th>22</th>\n",
       "      <td>NOPRIOR</td>\n",
       "      <td>0.000000</td>\n",
       "    </tr>\n",
       "    <tr>\n",
       "      <th>23</th>\n",
       "      <td>NUM_SUBS</td>\n",
       "      <td>0.000000</td>\n",
       "    </tr>\n",
       "  </tbody>\n",
       "</table>\n",
       "</div>"
      ],
      "text/plain": [
       "                 Column  % missing\n",
       "0                   AGE   0.000000\n",
       "1                GENDER   0.038693\n",
       "2                  RACE   1.326805\n",
       "3                ETHNIC   1.601367\n",
       "4               MARSTAT  15.207569\n",
       "5                  EDUC   0.000000\n",
       "6                EMPLOY   1.554402\n",
       "7                  PREG  66.711680\n",
       "8                   VET   5.518878\n",
       "9               LIVARAG   2.470615\n",
       "10              PRIMINC  37.659898\n",
       "11              ARRESTS   0.000000\n",
       "12             DIVISION   0.000000\n",
       "13             SERVICES   0.000000\n",
       "14              DAYWAIT   0.000000\n",
       "15              PSOURCE   1.588066\n",
       "16                 SUB1   0.656271\n",
       "17                FREQ1   6.244483\n",
       "18             FRSTUSE1   0.000000\n",
       "19              PSYPROB   9.670801\n",
       "20              HLTHINS  57.529435\n",
       "21  FREQ_ATND_SELF_HELP  14.572375\n",
       "22              NOPRIOR   0.000000\n",
       "23             NUM_SUBS   0.000000"
      ]
     },
     "execution_count": 24,
     "metadata": {},
     "output_type": "execute_result"
    }
   ],
   "source": [
    "df_missing_perc"
   ]
  },
  {
   "cell_type": "code",
   "execution_count": 25,
   "metadata": {},
   "outputs": [],
   "source": [
    "columns_50perc_missing = list( df_missing_perc[ df_missing_perc['% missing'] > 50.0 ]['Column'].values)"
   ]
  },
  {
   "cell_type": "code",
   "execution_count": 26,
   "metadata": {},
   "outputs": [
    {
     "data": {
      "text/plain": [
       "['PREG', 'HLTHINS']"
      ]
     },
     "execution_count": 26,
     "metadata": {},
     "output_type": "execute_result"
    }
   ],
   "source": [
    "columns_50perc_missing"
   ]
  },
  {
   "cell_type": "code",
   "execution_count": 27,
   "metadata": {},
   "outputs": [],
   "source": [
    "df = df.drop(columns_50perc_missing, axis=1)"
   ]
  },
  {
   "cell_type": "code",
   "execution_count": 28,
   "metadata": {},
   "outputs": [
    {
     "data": {
      "text/plain": [
       "AGE                     0.000000\n",
       "GENDER                  0.038693\n",
       "RACE                    1.326805\n",
       "ETHNIC                  1.601367\n",
       "MARSTAT                15.207569\n",
       "EDUC                    0.000000\n",
       "EMPLOY                  1.554402\n",
       "VET                     5.518878\n",
       "LIVARAG                 2.470615\n",
       "PRIMINC                37.659898\n",
       "ARRESTS                 0.000000\n",
       "DIVISION                0.000000\n",
       "SERVICES                0.000000\n",
       "DAYWAIT                 0.000000\n",
       "PSOURCE                 1.588066\n",
       "SUB1                    0.656271\n",
       "FREQ1                   6.244483\n",
       "FRSTUSE1                0.000000\n",
       "PSYPROB                 9.670801\n",
       "FREQ_ATND_SELF_HELP    14.572375\n",
       "NOPRIOR                 0.000000\n",
       "NUM_SUBS                0.000000\n",
       "dtype: float64"
      ]
     },
     "execution_count": 28,
     "metadata": {},
     "output_type": "execute_result"
    }
   ],
   "source": [
    "df.isnull().sum()/df.shape[0] * 100"
   ]
  },
  {
   "cell_type": "code",
   "execution_count": 12,
   "metadata": {},
   "outputs": [
    {
     "data": {
      "text/plain": [
       "PRIMINC\n",
       "None                              928884\n",
       "Wages/salary                      631678\n",
       "Other                             364852\n",
       "Public assistance                 191092\n",
       "Retirement/pension, disability    151983\n",
       "Name: count, dtype: int64"
      ]
     },
     "execution_count": 12,
     "metadata": {},
     "output_type": "execute_result"
    }
   ],
   "source": [
    "df['PRIMINC'].value_counts()"
   ]
  },
  {
   "cell_type": "code",
   "execution_count": 29,
   "metadata": {},
   "outputs": [],
   "source": [
    "data = df.copy()"
   ]
  },
  {
   "cell_type": "code",
   "execution_count": 30,
   "metadata": {},
   "outputs": [],
   "source": [
    "# Impute missing data witn mode\n",
    "from sklearn.impute import SimpleImputer\n",
    "\n",
    "my_imputer = SimpleImputer(missing_values = None, strategy='most_frequent')\n",
    "data_imputed = pd.DataFrame(my_imputer.fit_transform(data))\n",
    "data_imputed.columns = data.columns"
   ]
  },
  {
   "cell_type": "code",
   "execution_count": 31,
   "metadata": {},
   "outputs": [
    {
     "data": {
      "text/html": [
       "<div>\n",
       "<style scoped>\n",
       "    .dataframe tbody tr th:only-of-type {\n",
       "        vertical-align: middle;\n",
       "    }\n",
       "\n",
       "    .dataframe tbody tr th {\n",
       "        vertical-align: top;\n",
       "    }\n",
       "\n",
       "    .dataframe thead th {\n",
       "        text-align: right;\n",
       "    }\n",
       "</style>\n",
       "<table border=\"1\" class=\"dataframe\">\n",
       "  <thead>\n",
       "    <tr style=\"text-align: right;\">\n",
       "      <th></th>\n",
       "      <th>AGE</th>\n",
       "      <th>GENDER</th>\n",
       "      <th>RACE</th>\n",
       "      <th>ETHNIC</th>\n",
       "      <th>MARSTAT</th>\n",
       "      <th>EDUC</th>\n",
       "      <th>EMPLOY</th>\n",
       "      <th>VET</th>\n",
       "      <th>LIVARAG</th>\n",
       "      <th>PRIMINC</th>\n",
       "      <th>ARRESTS</th>\n",
       "      <th>DIVISION</th>\n",
       "      <th>SERVICES</th>\n",
       "      <th>DAYWAIT</th>\n",
       "      <th>PSOURCE</th>\n",
       "      <th>SUB1</th>\n",
       "      <th>FREQ1</th>\n",
       "      <th>FRSTUSE1</th>\n",
       "      <th>PSYPROB</th>\n",
       "      <th>FREQ_ATND_SELF_HELP</th>\n",
       "      <th>NOPRIOR</th>\n",
       "      <th>NUM_SUBS</th>\n",
       "    </tr>\n",
       "  </thead>\n",
       "  <tbody>\n",
       "    <tr>\n",
       "      <th>0</th>\n",
       "      <td>2</td>\n",
       "      <td>Female</td>\n",
       "      <td>White</td>\n",
       "      <td>Not Hispanic</td>\n",
       "      <td>Never married</td>\n",
       "      <td>2</td>\n",
       "      <td>Part-time</td>\n",
       "      <td>Not veteran</td>\n",
       "      <td>Independent living</td>\n",
       "      <td>None</td>\n",
       "      <td>0</td>\n",
       "      <td>Pacific</td>\n",
       "      <td>Ambulatory</td>\n",
       "      <td>0</td>\n",
       "      <td>Individual</td>\n",
       "      <td>Opiates or Methadone</td>\n",
       "      <td>Daily use</td>\n",
       "      <td>3</td>\n",
       "      <td>No</td>\n",
       "      <td>No</td>\n",
       "      <td>0</td>\n",
       "      <td>1</td>\n",
       "    </tr>\n",
       "    <tr>\n",
       "      <th>1</th>\n",
       "      <td>2</td>\n",
       "      <td>Female</td>\n",
       "      <td>White</td>\n",
       "      <td>Not Hispanic</td>\n",
       "      <td>Never married</td>\n",
       "      <td>2</td>\n",
       "      <td>Not in labor force</td>\n",
       "      <td>Not veteran</td>\n",
       "      <td>Independent living</td>\n",
       "      <td>None</td>\n",
       "      <td>0</td>\n",
       "      <td>Pacific</td>\n",
       "      <td>Ambulatory</td>\n",
       "      <td>0</td>\n",
       "      <td>Other Health Care provider</td>\n",
       "      <td>Heroin</td>\n",
       "      <td>Daily use</td>\n",
       "      <td>4</td>\n",
       "      <td>No</td>\n",
       "      <td>No</td>\n",
       "      <td>1</td>\n",
       "      <td>2</td>\n",
       "    </tr>\n",
       "    <tr>\n",
       "      <th>2</th>\n",
       "      <td>1</td>\n",
       "      <td>Female</td>\n",
       "      <td>White</td>\n",
       "      <td>Not Hispanic</td>\n",
       "      <td>Never married</td>\n",
       "      <td>-1</td>\n",
       "      <td>Unemployed</td>\n",
       "      <td>Not veteran</td>\n",
       "      <td>Independent living</td>\n",
       "      <td>Public assistance</td>\n",
       "      <td>0</td>\n",
       "      <td>Pacific</td>\n",
       "      <td>Ambulatory</td>\n",
       "      <td>0</td>\n",
       "      <td>Individual</td>\n",
       "      <td>Heroin</td>\n",
       "      <td>Daily use</td>\n",
       "      <td>2</td>\n",
       "      <td>Yes</td>\n",
       "      <td>No</td>\n",
       "      <td>1</td>\n",
       "      <td>2</td>\n",
       "    </tr>\n",
       "    <tr>\n",
       "      <th>3</th>\n",
       "      <td>2</td>\n",
       "      <td>Female</td>\n",
       "      <td>White</td>\n",
       "      <td>Not Hispanic</td>\n",
       "      <td>Never married</td>\n",
       "      <td>2</td>\n",
       "      <td>Not in labor force</td>\n",
       "      <td>Not veteran</td>\n",
       "      <td>Homeless</td>\n",
       "      <td>None</td>\n",
       "      <td>0</td>\n",
       "      <td>Pacific</td>\n",
       "      <td>Ambulatory</td>\n",
       "      <td>0</td>\n",
       "      <td>Individual</td>\n",
       "      <td>Heroin</td>\n",
       "      <td>Daily use</td>\n",
       "      <td>3</td>\n",
       "      <td>No</td>\n",
       "      <td>No</td>\n",
       "      <td>1</td>\n",
       "      <td>2</td>\n",
       "    </tr>\n",
       "    <tr>\n",
       "      <th>4</th>\n",
       "      <td>3</td>\n",
       "      <td>Female</td>\n",
       "      <td>Alaska Native</td>\n",
       "      <td>Not Hispanic</td>\n",
       "      <td>Divorced/widowed</td>\n",
       "      <td>2</td>\n",
       "      <td>Not in labor force</td>\n",
       "      <td>Not veteran</td>\n",
       "      <td>Homeless</td>\n",
       "      <td>Other</td>\n",
       "      <td>0</td>\n",
       "      <td>Middle Atlantic</td>\n",
       "      <td>Ambulatory</td>\n",
       "      <td>-1</td>\n",
       "      <td>Other Health Care provider</td>\n",
       "      <td>Heroin</td>\n",
       "      <td>Daily use</td>\n",
       "      <td>4</td>\n",
       "      <td>Yes</td>\n",
       "      <td>No</td>\n",
       "      <td>1</td>\n",
       "      <td>3</td>\n",
       "    </tr>\n",
       "  </tbody>\n",
       "</table>\n",
       "</div>"
      ],
      "text/plain": [
       "  AGE  GENDER           RACE        ETHNIC           MARSTAT EDUC   \n",
       "0   2  Female          White  Not Hispanic     Never married    2  \\\n",
       "1   2  Female          White  Not Hispanic     Never married    2   \n",
       "2   1  Female          White  Not Hispanic     Never married   -1   \n",
       "3   2  Female          White  Not Hispanic     Never married    2   \n",
       "4   3  Female  Alaska Native  Not Hispanic  Divorced/widowed    2   \n",
       "\n",
       "               EMPLOY          VET             LIVARAG            PRIMINC   \n",
       "0           Part-time  Not veteran  Independent living               None  \\\n",
       "1  Not in labor force  Not veteran  Independent living               None   \n",
       "2          Unemployed  Not veteran  Independent living  Public assistance   \n",
       "3  Not in labor force  Not veteran            Homeless               None   \n",
       "4  Not in labor force  Not veteran            Homeless              Other   \n",
       "\n",
       "  ARRESTS         DIVISION    SERVICES DAYWAIT                     PSOURCE   \n",
       "0       0          Pacific  Ambulatory       0                  Individual  \\\n",
       "1       0          Pacific  Ambulatory       0  Other Health Care provider   \n",
       "2       0          Pacific  Ambulatory       0                  Individual   \n",
       "3       0          Pacific  Ambulatory       0                  Individual   \n",
       "4       0  Middle Atlantic  Ambulatory      -1  Other Health Care provider   \n",
       "\n",
       "                   SUB1      FREQ1 FRSTUSE1 PSYPROB FREQ_ATND_SELF_HELP   \n",
       "0  Opiates or Methadone  Daily use        3      No                  No  \\\n",
       "1                Heroin  Daily use        4      No                  No   \n",
       "2                Heroin  Daily use        2     Yes                  No   \n",
       "3                Heroin  Daily use        3      No                  No   \n",
       "4                Heroin  Daily use        4     Yes                  No   \n",
       "\n",
       "  NOPRIOR NUM_SUBS  \n",
       "0       0        1  \n",
       "1       1        2  \n",
       "2       1        2  \n",
       "3       1        2  \n",
       "4       1        3  "
      ]
     },
     "execution_count": 31,
     "metadata": {},
     "output_type": "execute_result"
    }
   ],
   "source": [
    "data_imputed.head()"
   ]
  },
  {
   "cell_type": "code",
   "execution_count": 32,
   "metadata": {},
   "outputs": [
    {
     "data": {
      "text/plain": [
       "AGE                    0\n",
       "GENDER                 0\n",
       "RACE                   0\n",
       "ETHNIC                 0\n",
       "MARSTAT                0\n",
       "EDUC                   0\n",
       "EMPLOY                 0\n",
       "VET                    0\n",
       "LIVARAG                0\n",
       "PRIMINC                0\n",
       "ARRESTS                0\n",
       "DIVISION               0\n",
       "SERVICES               0\n",
       "DAYWAIT                0\n",
       "PSOURCE                0\n",
       "SUB1                   0\n",
       "FREQ1                  0\n",
       "FRSTUSE1               0\n",
       "PSYPROB                0\n",
       "FREQ_ATND_SELF_HELP    0\n",
       "NOPRIOR                0\n",
       "NUM_SUBS               0\n",
       "dtype: int64"
      ]
     },
     "execution_count": 32,
     "metadata": {},
     "output_type": "execute_result"
    }
   ],
   "source": [
    "data_imputed.isnull().sum()"
   ]
  },
  {
   "cell_type": "code",
   "execution_count": 33,
   "metadata": {},
   "outputs": [
    {
     "name": "stdout",
     "output_type": "stream",
     "text": [
      "<class 'pandas.core.frame.DataFrame'>\n",
      "RangeIndex: 3638892 entries, 0 to 3638891\n",
      "Data columns (total 22 columns):\n",
      " #   Column               Dtype \n",
      "---  ------               ----- \n",
      " 0   AGE                  object\n",
      " 1   GENDER               object\n",
      " 2   RACE                 object\n",
      " 3   ETHNIC               object\n",
      " 4   MARSTAT              object\n",
      " 5   EDUC                 object\n",
      " 6   EMPLOY               object\n",
      " 7   VET                  object\n",
      " 8   LIVARAG              object\n",
      " 9   PRIMINC              object\n",
      " 10  ARRESTS              object\n",
      " 11  DIVISION             object\n",
      " 12  SERVICES             object\n",
      " 13  DAYWAIT              object\n",
      " 14  PSOURCE              object\n",
      " 15  SUB1                 object\n",
      " 16  FREQ1                object\n",
      " 17  FRSTUSE1             object\n",
      " 18  PSYPROB              object\n",
      " 19  FREQ_ATND_SELF_HELP  object\n",
      " 20  NOPRIOR              object\n",
      " 21  NUM_SUBS             object\n",
      "dtypes: object(22)\n",
      "memory usage: 610.8+ MB\n"
     ]
    }
   ],
   "source": [
    "data_imputed.info()"
   ]
  },
  {
   "cell_type": "code",
   "execution_count": null,
   "metadata": {},
   "outputs": [],
   "source": []
  },
  {
   "cell_type": "code",
   "execution_count": 52,
   "metadata": {},
   "outputs": [],
   "source": [
    "X = data_imputed.drop(\"NOPRIOR\", axis=1)\n",
    "y = data_imputed[\"NOPRIOR\"]"
   ]
  },
  {
   "cell_type": "code",
   "execution_count": 53,
   "metadata": {},
   "outputs": [
    {
     "name": "stdout",
     "output_type": "stream",
     "text": [
      "<class 'pandas.core.frame.DataFrame'>\n",
      "RangeIndex: 3638892 entries, 0 to 3638891\n",
      "Data columns (total 21 columns):\n",
      " #   Column               Dtype \n",
      "---  ------               ----- \n",
      " 0   AGE                  object\n",
      " 1   GENDER               object\n",
      " 2   RACE                 object\n",
      " 3   ETHNIC               object\n",
      " 4   MARSTAT              object\n",
      " 5   EDUC                 object\n",
      " 6   EMPLOY               object\n",
      " 7   VET                  object\n",
      " 8   LIVARAG              object\n",
      " 9   PRIMINC              object\n",
      " 10  ARRESTS              object\n",
      " 11  DIVISION             object\n",
      " 12  SERVICES             object\n",
      " 13  DAYWAIT              object\n",
      " 14  PSOURCE              object\n",
      " 15  SUB1                 object\n",
      " 16  FREQ1                object\n",
      " 17  FRSTUSE1             object\n",
      " 18  PSYPROB              object\n",
      " 19  FREQ_ATND_SELF_HELP  object\n",
      " 20  NUM_SUBS             object\n",
      "dtypes: object(21)\n",
      "memory usage: 583.0+ MB\n"
     ]
    }
   ],
   "source": [
    "X.info()"
   ]
  },
  {
   "cell_type": "code",
   "execution_count": 25,
   "metadata": {},
   "outputs": [],
   "source": [
    "X[\"GENDER\"] = X[\"GENDER\"].astype(\"category\")\n",
    "X[\"RACE\"] = X[\"RACE\"].astype(\"category\")\n",
    "X[\"ETHNIC\"] = X[\"ETHNIC\"].astype(\"category\")\n",
    "X[\"MARSTAT\"] = X[\"MARSTAT\"].astype(\"category\")\n",
    "X[\"EMPLOY\"] = X[\"EMPLOY\"].astype(\"category\")\n",
    "X[\"VET\"] = X[\"VET\"].astype(\"category\")\n",
    "X[\"LIVARAG\"] = X[\"LIVARAG\"].astype(\"category\")\n",
    "X[\"PRIMINC\"] = X[\"PRIMINC\"].astype(\"category\")\n",
    "X[\"DIVISION\"] = X[\"DIVISION\"].astype(\"category\")\n",
    "X[\"SERVICES\"] = X[\"SERVICES\"].astype(\"category\")\n",
    "X[\"PSOURCE\"] = X[\"PSOURCE\"].astype(\"category\")\n",
    "X[\"SUB1\"] = X[\"SUB1\"].astype(\"category\")\n",
    "X[\"FREQ1\"] = X[\"FREQ1\"].astype(\"category\")\n",
    "X[\"PSYPROB\"] = X[\"PSYPROB\"].astype(\"category\")\n",
    "\n",
    "X[\"FREQ_ATND_SELF_HELP\"] = X[\"FREQ_ATND_SELF_HELP\"].astype(\"category\")\n",
    "\n",
    "\n",
    "\n",
    "\n",
    "X[\"AGE\"] = X[\"AGE\"].astype(\"category\")\n",
    "X[\"EDUC\"] = X[\"EDUC\"].astype(\"category\")\n",
    "X[\"ARRESTS\"] = X[\"ARRESTS\"].astype(\"category\")\n",
    "X[\"DAYWAIT\"] = X[\"DAYWAIT\"].astype(\"category\")\n",
    "X[\"FRSTUSE1\"] = X[\"FRSTUSE1\"].astype(\"category\")\n",
    "X[\"NUM_SUBS\"] = X[\"NUM_SUBS\"].astype(\"category\")"
   ]
  },
  {
   "cell_type": "code",
   "execution_count": 54,
   "metadata": {},
   "outputs": [
    {
     "name": "stdout",
     "output_type": "stream",
     "text": [
      "<class 'pandas.core.frame.DataFrame'>\n",
      "RangeIndex: 3638892 entries, 0 to 3638891\n",
      "Data columns (total 21 columns):\n",
      " #   Column               Dtype \n",
      "---  ------               ----- \n",
      " 0   AGE                  object\n",
      " 1   GENDER               object\n",
      " 2   RACE                 object\n",
      " 3   ETHNIC               object\n",
      " 4   MARSTAT              object\n",
      " 5   EDUC                 object\n",
      " 6   EMPLOY               object\n",
      " 7   VET                  object\n",
      " 8   LIVARAG              object\n",
      " 9   PRIMINC              object\n",
      " 10  ARRESTS              object\n",
      " 11  DIVISION             object\n",
      " 12  SERVICES             object\n",
      " 13  DAYWAIT              object\n",
      " 14  PSOURCE              object\n",
      " 15  SUB1                 object\n",
      " 16  FREQ1                object\n",
      " 17  FRSTUSE1             object\n",
      " 18  PSYPROB              object\n",
      " 19  FREQ_ATND_SELF_HELP  object\n",
      " 20  NUM_SUBS             object\n",
      "dtypes: object(21)\n",
      "memory usage: 583.0+ MB\n"
     ]
    }
   ],
   "source": [
    "X.info()"
   ]
  },
  {
   "cell_type": "code",
   "execution_count": 55,
   "metadata": {},
   "outputs": [
    {
     "data": {
      "text/html": [
       "<div>\n",
       "<style scoped>\n",
       "    .dataframe tbody tr th:only-of-type {\n",
       "        vertical-align: middle;\n",
       "    }\n",
       "\n",
       "    .dataframe tbody tr th {\n",
       "        vertical-align: top;\n",
       "    }\n",
       "\n",
       "    .dataframe thead th {\n",
       "        text-align: right;\n",
       "    }\n",
       "</style>\n",
       "<table border=\"1\" class=\"dataframe\">\n",
       "  <thead>\n",
       "    <tr style=\"text-align: right;\">\n",
       "      <th></th>\n",
       "      <th>AGE</th>\n",
       "      <th>GENDER</th>\n",
       "      <th>RACE</th>\n",
       "      <th>ETHNIC</th>\n",
       "      <th>MARSTAT</th>\n",
       "      <th>EDUC</th>\n",
       "      <th>EMPLOY</th>\n",
       "      <th>VET</th>\n",
       "      <th>LIVARAG</th>\n",
       "      <th>PRIMINC</th>\n",
       "      <th>ARRESTS</th>\n",
       "      <th>DIVISION</th>\n",
       "      <th>SERVICES</th>\n",
       "      <th>DAYWAIT</th>\n",
       "      <th>PSOURCE</th>\n",
       "      <th>SUB1</th>\n",
       "      <th>FREQ1</th>\n",
       "      <th>FRSTUSE1</th>\n",
       "      <th>PSYPROB</th>\n",
       "      <th>FREQ_ATND_SELF_HELP</th>\n",
       "      <th>NUM_SUBS</th>\n",
       "    </tr>\n",
       "  </thead>\n",
       "  <tbody>\n",
       "    <tr>\n",
       "      <th>0</th>\n",
       "      <td>2</td>\n",
       "      <td>Female</td>\n",
       "      <td>White</td>\n",
       "      <td>Not Hispanic</td>\n",
       "      <td>Never married</td>\n",
       "      <td>2</td>\n",
       "      <td>Part-time</td>\n",
       "      <td>Not veteran</td>\n",
       "      <td>Independent living</td>\n",
       "      <td>None</td>\n",
       "      <td>0</td>\n",
       "      <td>Pacific</td>\n",
       "      <td>Ambulatory</td>\n",
       "      <td>0</td>\n",
       "      <td>Individual</td>\n",
       "      <td>Opiates or Methadone</td>\n",
       "      <td>Daily use</td>\n",
       "      <td>3</td>\n",
       "      <td>No</td>\n",
       "      <td>No</td>\n",
       "      <td>1</td>\n",
       "    </tr>\n",
       "    <tr>\n",
       "      <th>1</th>\n",
       "      <td>2</td>\n",
       "      <td>Female</td>\n",
       "      <td>White</td>\n",
       "      <td>Not Hispanic</td>\n",
       "      <td>Never married</td>\n",
       "      <td>2</td>\n",
       "      <td>Not in labor force</td>\n",
       "      <td>Not veteran</td>\n",
       "      <td>Independent living</td>\n",
       "      <td>None</td>\n",
       "      <td>0</td>\n",
       "      <td>Pacific</td>\n",
       "      <td>Ambulatory</td>\n",
       "      <td>0</td>\n",
       "      <td>Other Health Care provider</td>\n",
       "      <td>Heroin</td>\n",
       "      <td>Daily use</td>\n",
       "      <td>4</td>\n",
       "      <td>No</td>\n",
       "      <td>No</td>\n",
       "      <td>2</td>\n",
       "    </tr>\n",
       "    <tr>\n",
       "      <th>2</th>\n",
       "      <td>1</td>\n",
       "      <td>Female</td>\n",
       "      <td>White</td>\n",
       "      <td>Not Hispanic</td>\n",
       "      <td>Never married</td>\n",
       "      <td>-1</td>\n",
       "      <td>Unemployed</td>\n",
       "      <td>Not veteran</td>\n",
       "      <td>Independent living</td>\n",
       "      <td>Public assistance</td>\n",
       "      <td>0</td>\n",
       "      <td>Pacific</td>\n",
       "      <td>Ambulatory</td>\n",
       "      <td>0</td>\n",
       "      <td>Individual</td>\n",
       "      <td>Heroin</td>\n",
       "      <td>Daily use</td>\n",
       "      <td>2</td>\n",
       "      <td>Yes</td>\n",
       "      <td>No</td>\n",
       "      <td>2</td>\n",
       "    </tr>\n",
       "    <tr>\n",
       "      <th>3</th>\n",
       "      <td>2</td>\n",
       "      <td>Female</td>\n",
       "      <td>White</td>\n",
       "      <td>Not Hispanic</td>\n",
       "      <td>Never married</td>\n",
       "      <td>2</td>\n",
       "      <td>Not in labor force</td>\n",
       "      <td>Not veteran</td>\n",
       "      <td>Homeless</td>\n",
       "      <td>None</td>\n",
       "      <td>0</td>\n",
       "      <td>Pacific</td>\n",
       "      <td>Ambulatory</td>\n",
       "      <td>0</td>\n",
       "      <td>Individual</td>\n",
       "      <td>Heroin</td>\n",
       "      <td>Daily use</td>\n",
       "      <td>3</td>\n",
       "      <td>No</td>\n",
       "      <td>No</td>\n",
       "      <td>2</td>\n",
       "    </tr>\n",
       "    <tr>\n",
       "      <th>4</th>\n",
       "      <td>3</td>\n",
       "      <td>Female</td>\n",
       "      <td>Alaska Native</td>\n",
       "      <td>Not Hispanic</td>\n",
       "      <td>Divorced/widowed</td>\n",
       "      <td>2</td>\n",
       "      <td>Not in labor force</td>\n",
       "      <td>Not veteran</td>\n",
       "      <td>Homeless</td>\n",
       "      <td>Other</td>\n",
       "      <td>0</td>\n",
       "      <td>Middle Atlantic</td>\n",
       "      <td>Ambulatory</td>\n",
       "      <td>-1</td>\n",
       "      <td>Other Health Care provider</td>\n",
       "      <td>Heroin</td>\n",
       "      <td>Daily use</td>\n",
       "      <td>4</td>\n",
       "      <td>Yes</td>\n",
       "      <td>No</td>\n",
       "      <td>3</td>\n",
       "    </tr>\n",
       "  </tbody>\n",
       "</table>\n",
       "</div>"
      ],
      "text/plain": [
       "  AGE  GENDER           RACE        ETHNIC           MARSTAT EDUC   \n",
       "0   2  Female          White  Not Hispanic     Never married    2  \\\n",
       "1   2  Female          White  Not Hispanic     Never married    2   \n",
       "2   1  Female          White  Not Hispanic     Never married   -1   \n",
       "3   2  Female          White  Not Hispanic     Never married    2   \n",
       "4   3  Female  Alaska Native  Not Hispanic  Divorced/widowed    2   \n",
       "\n",
       "               EMPLOY          VET             LIVARAG            PRIMINC   \n",
       "0           Part-time  Not veteran  Independent living               None  \\\n",
       "1  Not in labor force  Not veteran  Independent living               None   \n",
       "2          Unemployed  Not veteran  Independent living  Public assistance   \n",
       "3  Not in labor force  Not veteran            Homeless               None   \n",
       "4  Not in labor force  Not veteran            Homeless              Other   \n",
       "\n",
       "  ARRESTS         DIVISION    SERVICES DAYWAIT                     PSOURCE   \n",
       "0       0          Pacific  Ambulatory       0                  Individual  \\\n",
       "1       0          Pacific  Ambulatory       0  Other Health Care provider   \n",
       "2       0          Pacific  Ambulatory       0                  Individual   \n",
       "3       0          Pacific  Ambulatory       0                  Individual   \n",
       "4       0  Middle Atlantic  Ambulatory      -1  Other Health Care provider   \n",
       "\n",
       "                   SUB1      FREQ1 FRSTUSE1 PSYPROB FREQ_ATND_SELF_HELP   \n",
       "0  Opiates or Methadone  Daily use        3      No                  No  \\\n",
       "1                Heroin  Daily use        4      No                  No   \n",
       "2                Heroin  Daily use        2     Yes                  No   \n",
       "3                Heroin  Daily use        3      No                  No   \n",
       "4                Heroin  Daily use        4     Yes                  No   \n",
       "\n",
       "  NUM_SUBS  \n",
       "0        1  \n",
       "1        2  \n",
       "2        2  \n",
       "3        2  \n",
       "4        3  "
      ]
     },
     "execution_count": 55,
     "metadata": {},
     "output_type": "execute_result"
    }
   ],
   "source": [
    "X.head()"
   ]
  },
  {
   "cell_type": "code",
   "execution_count": 56,
   "metadata": {},
   "outputs": [],
   "source": [
    "columns_one_hot = ['GENDER', 'RACE', 'ETHNIC', 'MARSTAT', 'EMPLOY', 'VET' ,\t'LIVARAG',\t'PRIMINC',\n",
    "                   'DIVISION',\t'SERVICES' ,  'PSOURCE' , \t'SUB1' , \t'FREQ1', \n",
    "                   'PSYPROB' ,\t'FREQ_ATND_SELF_HELP']"
   ]
  },
  {
   "cell_type": "code",
   "execution_count": 57,
   "metadata": {},
   "outputs": [],
   "source": [
    "X = pd.get_dummies(X, columns=columns_one_hot, drop_first=True)"
   ]
  },
  {
   "cell_type": "code",
   "execution_count": 58,
   "metadata": {},
   "outputs": [
    {
     "name": "stdout",
     "output_type": "stream",
     "text": [
      "<class 'pandas.core.frame.DataFrame'>\n",
      "RangeIndex: 3638892 entries, 0 to 3638891\n",
      "Data columns (total 58 columns):\n",
      " #   Column                                  Dtype \n",
      "---  ------                                  ----- \n",
      " 0   AGE                                     object\n",
      " 1   EDUC                                    object\n",
      " 2   ARRESTS                                 object\n",
      " 3   DAYWAIT                                 object\n",
      " 4   FRSTUSE1                                object\n",
      " 5   NUM_SUBS                                object\n",
      " 6   GENDER_Male                             bool  \n",
      " 7   RACE_American Indian                    bool  \n",
      " 8   RACE_Asian                              bool  \n",
      " 9   RACE_Black                              bool  \n",
      " 10  RACE_Hawaii, Pacific Islander           bool  \n",
      " 11  RACE_Other race                         bool  \n",
      " 12  RACE_Two or more races                  bool  \n",
      " 13  RACE_White                              bool  \n",
      " 14  ETHNIC_Not Hispanic                     bool  \n",
      " 15  MARSTAT_Never married                   bool  \n",
      " 16  MARSTAT_Now married                     bool  \n",
      " 17  MARSTAT_Separated                       bool  \n",
      " 18  EMPLOY_Not in labor force               bool  \n",
      " 19  EMPLOY_Part-time                        bool  \n",
      " 20  EMPLOY_Unemployed                       bool  \n",
      " 21  VET_Veteran                             bool  \n",
      " 22  LIVARAG_Homeless                        bool  \n",
      " 23  LIVARAG_Independent living              bool  \n",
      " 24  PRIMINC_Other                           bool  \n",
      " 25  PRIMINC_Public assistance               bool  \n",
      " 26  PRIMINC_Retirement/pension, disability  bool  \n",
      " 27  PRIMINC_Wages/salary                    bool  \n",
      " 28  DIVISION_East South Central             bool  \n",
      " 29  DIVISION_Middle Atlantic                bool  \n",
      " 30  DIVISION_Mountain                       bool  \n",
      " 31  DIVISION_New England                    bool  \n",
      " 32  DIVISION_Pacific                        bool  \n",
      " 33  DIVISION_South Atlantic                 bool  \n",
      " 34  DIVISION_U.S. territories               bool  \n",
      " 35  DIVISION_West North Central             bool  \n",
      " 36  DIVISION_West South Central             bool  \n",
      " 37  SERVICES_Detox                          bool  \n",
      " 38  SERVICES_Rehab/residential              bool  \n",
      " 39  PSOURCE_Community                       bool  \n",
      " 40  PSOURCE_Court                           bool  \n",
      " 41  PSOURCE_Employer                        bool  \n",
      " 42  PSOURCE_Individual                      bool  \n",
      " 43  PSOURCE_Other Health Care provider      bool  \n",
      " 44  PSOURCE_School                          bool  \n",
      " 45  SUB1_Benzodiazepines or Tranquilizers   bool  \n",
      " 46  SUB1_Cocaine/Crack                      bool  \n",
      " 47  SUB1_Heroin                             bool  \n",
      " 48  SUB1_Marijuana/Hashish                  bool  \n",
      " 49  SUB1_Methamphetamine                    bool  \n",
      " 50  SUB1_Opiates or Methadone               bool  \n",
      " 51  SUB1_Other                              bool  \n",
      " 52  SUB1_Other Amphetamines or Stimulants   bool  \n",
      " 53  SUB1_PCP or Other Hallucinogens         bool  \n",
      " 54  FREQ1_No use in the past month          bool  \n",
      " 55  FREQ1_Some use                          bool  \n",
      " 56  PSYPROB_Yes                             bool  \n",
      " 57  FREQ_ATND_SELF_HELP_Yes                 bool  \n",
      "dtypes: bool(52), object(6)\n",
      "memory usage: 347.0+ MB\n"
     ]
    }
   ],
   "source": [
    "X.info()"
   ]
  },
  {
   "cell_type": "code",
   "execution_count": 67,
   "metadata": {},
   "outputs": [],
   "source": [
    "X['AGE'] = X['AGE'].astype(int)\n",
    "X['EDUC'] = X['EDUC'].astype(int)\n",
    "X['ARRESTS'] = X['ARRESTS'].astype(int)\n",
    "X['DAYWAIT'] = X['DAYWAIT'].astype(int)\n",
    "X['FRSTUSE1'] = X['FRSTUSE1'].astype(int)\n",
    "X['NUM_SUBS'] = X['NUM_SUBS'].astype(int)\n"
   ]
  },
  {
   "cell_type": "code",
   "execution_count": 75,
   "metadata": {},
   "outputs": [
    {
     "name": "stdout",
     "output_type": "stream",
     "text": [
      "<class 'pandas.core.frame.DataFrame'>\n",
      "RangeIndex: 3638892 entries, 0 to 3638891\n",
      "Data columns (total 58 columns):\n",
      " #   Column                                  Dtype\n",
      "---  ------                                  -----\n",
      " 0   AGE                                     int64\n",
      " 1   EDUC                                    int64\n",
      " 2   ARRESTS                                 int64\n",
      " 3   DAYWAIT                                 int64\n",
      " 4   FRSTUSE1                                int64\n",
      " 5   NUM_SUBS                                int64\n",
      " 6   GENDER_Male                             bool \n",
      " 7   RACE_American Indian                    bool \n",
      " 8   RACE_Asian                              bool \n",
      " 9   RACE_Black                              bool \n",
      " 10  RACE_Hawaii, Pacific Islander           bool \n",
      " 11  RACE_Other race                         bool \n",
      " 12  RACE_Two or more races                  bool \n",
      " 13  RACE_White                              bool \n",
      " 14  ETHNIC_Not Hispanic                     bool \n",
      " 15  MARSTAT_Never married                   bool \n",
      " 16  MARSTAT_Now married                     bool \n",
      " 17  MARSTAT_Separated                       bool \n",
      " 18  EMPLOY_Not in labor force               bool \n",
      " 19  EMPLOY_Part-time                        bool \n",
      " 20  EMPLOY_Unemployed                       bool \n",
      " 21  VET_Veteran                             bool \n",
      " 22  LIVARAG_Homeless                        bool \n",
      " 23  LIVARAG_Independent living              bool \n",
      " 24  PRIMINC_Other                           bool \n",
      " 25  PRIMINC_Public assistance               bool \n",
      " 26  PRIMINC_Retirement/pension, disability  bool \n",
      " 27  PRIMINC_Wages/salary                    bool \n",
      " 28  DIVISION_East South Central             bool \n",
      " 29  DIVISION_Middle Atlantic                bool \n",
      " 30  DIVISION_Mountain                       bool \n",
      " 31  DIVISION_New England                    bool \n",
      " 32  DIVISION_Pacific                        bool \n",
      " 33  DIVISION_South Atlantic                 bool \n",
      " 34  DIVISION_U.S. territories               bool \n",
      " 35  DIVISION_West North Central             bool \n",
      " 36  DIVISION_West South Central             bool \n",
      " 37  SERVICES_Detox                          bool \n",
      " 38  SERVICES_Rehab/residential              bool \n",
      " 39  PSOURCE_Community                       bool \n",
      " 40  PSOURCE_Court                           bool \n",
      " 41  PSOURCE_Employer                        bool \n",
      " 42  PSOURCE_Individual                      bool \n",
      " 43  PSOURCE_Other Health Care provider      bool \n",
      " 44  PSOURCE_School                          bool \n",
      " 45  SUB1_Benzodiazepines or Tranquilizers   bool \n",
      " 46  SUB1_Cocaine/Crack                      bool \n",
      " 47  SUB1_Heroin                             bool \n",
      " 48  SUB1_Marijuana/Hashish                  bool \n",
      " 49  SUB1_Methamphetamine                    bool \n",
      " 50  SUB1_Opiates or Methadone               bool \n",
      " 51  SUB1_Other                              bool \n",
      " 52  SUB1_Other Amphetamines or Stimulants   bool \n",
      " 53  SUB1_PCP or Other Hallucinogens         bool \n",
      " 54  FREQ1_No use in the past month          bool \n",
      " 55  FREQ1_Some use                          bool \n",
      " 56  PSYPROB_Yes                             bool \n",
      " 57  FREQ_ATND_SELF_HELP_Yes                 bool \n",
      "dtypes: bool(52), int64(6)\n",
      "memory usage: 347.0 MB\n"
     ]
    }
   ],
   "source": [
    "X.info()"
   ]
  },
  {
   "cell_type": "code",
   "execution_count": 76,
   "metadata": {},
   "outputs": [],
   "source": [
    "y = y.astype('int')"
   ]
  },
  {
   "cell_type": "code",
   "execution_count": null,
   "metadata": {},
   "outputs": [],
   "source": []
  },
  {
   "cell_type": "code",
   "execution_count": 78,
   "metadata": {},
   "outputs": [],
   "source": [
    "from sklearn.model_selection import train_test_split, cross_val_predict\n",
    "\n",
    "X_train, X_test, y_train, y_test = train_test_split(X, y, test_size=0.40)"
   ]
  },
  {
   "cell_type": "code",
   "execution_count": 79,
   "metadata": {},
   "outputs": [
    {
     "data": {
      "text/plain": [
       "(2183335, 58)"
      ]
     },
     "execution_count": 79,
     "metadata": {},
     "output_type": "execute_result"
    }
   ],
   "source": [
    "X_train.shape"
   ]
  },
  {
   "cell_type": "code",
   "execution_count": 80,
   "metadata": {},
   "outputs": [
    {
     "data": {
      "text/html": [
       "<style>#sk-container-id-2 {color: black;background-color: white;}#sk-container-id-2 pre{padding: 0;}#sk-container-id-2 div.sk-toggleable {background-color: white;}#sk-container-id-2 label.sk-toggleable__label {cursor: pointer;display: block;width: 100%;margin-bottom: 0;padding: 0.3em;box-sizing: border-box;text-align: center;}#sk-container-id-2 label.sk-toggleable__label-arrow:before {content: \"▸\";float: left;margin-right: 0.25em;color: #696969;}#sk-container-id-2 label.sk-toggleable__label-arrow:hover:before {color: black;}#sk-container-id-2 div.sk-estimator:hover label.sk-toggleable__label-arrow:before {color: black;}#sk-container-id-2 div.sk-toggleable__content {max-height: 0;max-width: 0;overflow: hidden;text-align: left;background-color: #f0f8ff;}#sk-container-id-2 div.sk-toggleable__content pre {margin: 0.2em;color: black;border-radius: 0.25em;background-color: #f0f8ff;}#sk-container-id-2 input.sk-toggleable__control:checked~div.sk-toggleable__content {max-height: 200px;max-width: 100%;overflow: auto;}#sk-container-id-2 input.sk-toggleable__control:checked~label.sk-toggleable__label-arrow:before {content: \"▾\";}#sk-container-id-2 div.sk-estimator input.sk-toggleable__control:checked~label.sk-toggleable__label {background-color: #d4ebff;}#sk-container-id-2 div.sk-label input.sk-toggleable__control:checked~label.sk-toggleable__label {background-color: #d4ebff;}#sk-container-id-2 input.sk-hidden--visually {border: 0;clip: rect(1px 1px 1px 1px);clip: rect(1px, 1px, 1px, 1px);height: 1px;margin: -1px;overflow: hidden;padding: 0;position: absolute;width: 1px;}#sk-container-id-2 div.sk-estimator {font-family: monospace;background-color: #f0f8ff;border: 1px dotted black;border-radius: 0.25em;box-sizing: border-box;margin-bottom: 0.5em;}#sk-container-id-2 div.sk-estimator:hover {background-color: #d4ebff;}#sk-container-id-2 div.sk-parallel-item::after {content: \"\";width: 100%;border-bottom: 1px solid gray;flex-grow: 1;}#sk-container-id-2 div.sk-label:hover label.sk-toggleable__label {background-color: #d4ebff;}#sk-container-id-2 div.sk-serial::before {content: \"\";position: absolute;border-left: 1px solid gray;box-sizing: border-box;top: 0;bottom: 0;left: 50%;z-index: 0;}#sk-container-id-2 div.sk-serial {display: flex;flex-direction: column;align-items: center;background-color: white;padding-right: 0.2em;padding-left: 0.2em;position: relative;}#sk-container-id-2 div.sk-item {position: relative;z-index: 1;}#sk-container-id-2 div.sk-parallel {display: flex;align-items: stretch;justify-content: center;background-color: white;position: relative;}#sk-container-id-2 div.sk-item::before, #sk-container-id-2 div.sk-parallel-item::before {content: \"\";position: absolute;border-left: 1px solid gray;box-sizing: border-box;top: 0;bottom: 0;left: 50%;z-index: -1;}#sk-container-id-2 div.sk-parallel-item {display: flex;flex-direction: column;z-index: 1;position: relative;background-color: white;}#sk-container-id-2 div.sk-parallel-item:first-child::after {align-self: flex-end;width: 50%;}#sk-container-id-2 div.sk-parallel-item:last-child::after {align-self: flex-start;width: 50%;}#sk-container-id-2 div.sk-parallel-item:only-child::after {width: 0;}#sk-container-id-2 div.sk-dashed-wrapped {border: 1px dashed gray;margin: 0 0.4em 0.5em 0.4em;box-sizing: border-box;padding-bottom: 0.4em;background-color: white;}#sk-container-id-2 div.sk-label label {font-family: monospace;font-weight: bold;display: inline-block;line-height: 1.2em;}#sk-container-id-2 div.sk-label-container {text-align: center;}#sk-container-id-2 div.sk-container {/* jupyter's `normalize.less` sets `[hidden] { display: none; }` but bootstrap.min.css set `[hidden] { display: none !important; }` so we also need the `!important` here to be able to override the default hidden behavior on the sphinx rendered scikit-learn.org. See: https://github.com/scikit-learn/scikit-learn/issues/21755 */display: inline-block !important;position: relative;}#sk-container-id-2 div.sk-text-repr-fallback {display: none;}</style><div id=\"sk-container-id-2\" class=\"sk-top-container\"><div class=\"sk-text-repr-fallback\"><pre>RandomForestClassifier()</pre><b>In a Jupyter environment, please rerun this cell to show the HTML representation or trust the notebook. <br />On GitHub, the HTML representation is unable to render, please try loading this page with nbviewer.org.</b></div><div class=\"sk-container\" hidden><div class=\"sk-item\"><div class=\"sk-estimator sk-toggleable\"><input class=\"sk-toggleable__control sk-hidden--visually\" id=\"sk-estimator-id-2\" type=\"checkbox\" checked><label for=\"sk-estimator-id-2\" class=\"sk-toggleable__label sk-toggleable__label-arrow\">RandomForestClassifier</label><div class=\"sk-toggleable__content\"><pre>RandomForestClassifier()</pre></div></div></div></div></div>"
      ],
      "text/plain": [
       "RandomForestClassifier()"
      ]
     },
     "execution_count": 80,
     "metadata": {},
     "output_type": "execute_result"
    }
   ],
   "source": [
    "from sklearn.ensemble import RandomForestClassifier\n",
    "\n",
    "\n",
    "rfc = RandomForestClassifier()\n",
    "rfc.fit(X_train, y_train)"
   ]
  },
  {
   "cell_type": "code",
   "execution_count": 81,
   "metadata": {},
   "outputs": [],
   "source": [
    "rfc_predict = rfc.predict(X_test)\n"
   ]
  },
  {
   "cell_type": "code",
   "execution_count": 84,
   "metadata": {},
   "outputs": [],
   "source": [
    "from sklearn.model_selection import cross_val_score\n",
    "from sklearn.metrics import classification_report, confusion_matrix"
   ]
  },
  {
   "cell_type": "code",
   "execution_count": 86,
   "metadata": {},
   "outputs": [
    {
     "ename": "",
     "evalue": "",
     "output_type": "error",
     "traceback": [
      "\u001b[1;31mCanceled future for execute_request message before replies were done"
     ]
    },
    {
     "ename": "",
     "evalue": "",
     "output_type": "error",
     "traceback": [
      "\u001b[1;31mThe Kernel crashed while executing code in the the current cell or a previous cell. Please review the code in the cell(s) to identify a possible cause of the failure. Click <a href='https://aka.ms/vscodeJupyterKernelCrash'>here</a> for more info. View Jupyter <a href='command:jupyter.viewOutput'>log</a> for further details."
     ]
    }
   ],
   "source": [
    "rfc_cv_score = cross_val_score(rfc, X, y, cv=10, scoring='roc_auc')"
   ]
  },
  {
   "cell_type": "code",
   "execution_count": 1,
   "metadata": {},
   "outputs": [
    {
     "name": "stdout",
     "output_type": "stream",
     "text": [
      "=== Confusion Matrix ===\n"
     ]
    },
    {
     "ename": "NameError",
     "evalue": "name 'confusion_matrix' is not defined",
     "output_type": "error",
     "traceback": [
      "\u001b[0;31m---------------------------------------------------------------------------\u001b[0m",
      "\u001b[0;31mNameError\u001b[0m                                 Traceback (most recent call last)",
      "\u001b[1;32m/Users/piyush/Desktop/MSD_datathon/src/testing.ipynb Cell 102\u001b[0m in \u001b[0;36m<cell line: 2>\u001b[0;34m()\u001b[0m\n\u001b[1;32m      <a href='vscode-notebook-cell:/Users/piyush/Desktop/MSD_datathon/src/testing.ipynb#Y362sZmlsZQ%3D%3D?line=0'>1</a>\u001b[0m \u001b[39mprint\u001b[39m(\u001b[39m\"\u001b[39m\u001b[39m=== Confusion Matrix ===\u001b[39m\u001b[39m\"\u001b[39m)\n\u001b[0;32m----> <a href='vscode-notebook-cell:/Users/piyush/Desktop/MSD_datathon/src/testing.ipynb#Y362sZmlsZQ%3D%3D?line=1'>2</a>\u001b[0m \u001b[39mprint\u001b[39m(confusion_matrix(y_test, rfc_predict))\n\u001b[1;32m      <a href='vscode-notebook-cell:/Users/piyush/Desktop/MSD_datathon/src/testing.ipynb#Y362sZmlsZQ%3D%3D?line=2'>3</a>\u001b[0m \u001b[39mprint\u001b[39m(\u001b[39m'\u001b[39m\u001b[39m\\n\u001b[39;00m\u001b[39m'\u001b[39m)\n\u001b[1;32m      <a href='vscode-notebook-cell:/Users/piyush/Desktop/MSD_datathon/src/testing.ipynb#Y362sZmlsZQ%3D%3D?line=3'>4</a>\u001b[0m \u001b[39mprint\u001b[39m(\u001b[39m\"\u001b[39m\u001b[39m=== Classification Report ===\u001b[39m\u001b[39m\"\u001b[39m)\n",
      "\u001b[0;31mNameError\u001b[0m: name 'confusion_matrix' is not defined"
     ]
    }
   ],
   "source": [
    "print(\"=== Confusion Matrix ===\")\n",
    "print(confusion_matrix(y_test, rfc_predict))\n",
    "print('\\n')\n",
    "print(\"=== Classification Report ===\")\n",
    "print(classification_report(y_test, rfc_predict))\n",
    "print('\\n')\n",
    "print(\"=== All AUC Scores ===\")\n",
    "#print(rfc_cv_score)\n",
    "print('\\n')\n",
    "print(\"=== Mean AUC Score ===\")\n",
    "print(\"Mean AUC Score - Random Forest: \", rfc_cv_score.mean())"
   ]
  },
  {
   "cell_type": "code",
   "execution_count": 77,
   "metadata": {},
   "outputs": [],
   "source": [
    "import xgboost as xgb"
   ]
  },
  {
   "cell_type": "code",
   "execution_count": 72,
   "metadata": {},
   "outputs": [],
   "source": [
    "clf = xgb.XGBClassifier()"
   ]
  },
  {
   "cell_type": "code",
   "execution_count": 73,
   "metadata": {},
   "outputs": [
    {
     "data": {
      "text/html": [
       "<style>#sk-container-id-1 {color: black;background-color: white;}#sk-container-id-1 pre{padding: 0;}#sk-container-id-1 div.sk-toggleable {background-color: white;}#sk-container-id-1 label.sk-toggleable__label {cursor: pointer;display: block;width: 100%;margin-bottom: 0;padding: 0.3em;box-sizing: border-box;text-align: center;}#sk-container-id-1 label.sk-toggleable__label-arrow:before {content: \"▸\";float: left;margin-right: 0.25em;color: #696969;}#sk-container-id-1 label.sk-toggleable__label-arrow:hover:before {color: black;}#sk-container-id-1 div.sk-estimator:hover label.sk-toggleable__label-arrow:before {color: black;}#sk-container-id-1 div.sk-toggleable__content {max-height: 0;max-width: 0;overflow: hidden;text-align: left;background-color: #f0f8ff;}#sk-container-id-1 div.sk-toggleable__content pre {margin: 0.2em;color: black;border-radius: 0.25em;background-color: #f0f8ff;}#sk-container-id-1 input.sk-toggleable__control:checked~div.sk-toggleable__content {max-height: 200px;max-width: 100%;overflow: auto;}#sk-container-id-1 input.sk-toggleable__control:checked~label.sk-toggleable__label-arrow:before {content: \"▾\";}#sk-container-id-1 div.sk-estimator input.sk-toggleable__control:checked~label.sk-toggleable__label {background-color: #d4ebff;}#sk-container-id-1 div.sk-label input.sk-toggleable__control:checked~label.sk-toggleable__label {background-color: #d4ebff;}#sk-container-id-1 input.sk-hidden--visually {border: 0;clip: rect(1px 1px 1px 1px);clip: rect(1px, 1px, 1px, 1px);height: 1px;margin: -1px;overflow: hidden;padding: 0;position: absolute;width: 1px;}#sk-container-id-1 div.sk-estimator {font-family: monospace;background-color: #f0f8ff;border: 1px dotted black;border-radius: 0.25em;box-sizing: border-box;margin-bottom: 0.5em;}#sk-container-id-1 div.sk-estimator:hover {background-color: #d4ebff;}#sk-container-id-1 div.sk-parallel-item::after {content: \"\";width: 100%;border-bottom: 1px solid gray;flex-grow: 1;}#sk-container-id-1 div.sk-label:hover label.sk-toggleable__label {background-color: #d4ebff;}#sk-container-id-1 div.sk-serial::before {content: \"\";position: absolute;border-left: 1px solid gray;box-sizing: border-box;top: 0;bottom: 0;left: 50%;z-index: 0;}#sk-container-id-1 div.sk-serial {display: flex;flex-direction: column;align-items: center;background-color: white;padding-right: 0.2em;padding-left: 0.2em;position: relative;}#sk-container-id-1 div.sk-item {position: relative;z-index: 1;}#sk-container-id-1 div.sk-parallel {display: flex;align-items: stretch;justify-content: center;background-color: white;position: relative;}#sk-container-id-1 div.sk-item::before, #sk-container-id-1 div.sk-parallel-item::before {content: \"\";position: absolute;border-left: 1px solid gray;box-sizing: border-box;top: 0;bottom: 0;left: 50%;z-index: -1;}#sk-container-id-1 div.sk-parallel-item {display: flex;flex-direction: column;z-index: 1;position: relative;background-color: white;}#sk-container-id-1 div.sk-parallel-item:first-child::after {align-self: flex-end;width: 50%;}#sk-container-id-1 div.sk-parallel-item:last-child::after {align-self: flex-start;width: 50%;}#sk-container-id-1 div.sk-parallel-item:only-child::after {width: 0;}#sk-container-id-1 div.sk-dashed-wrapped {border: 1px dashed gray;margin: 0 0.4em 0.5em 0.4em;box-sizing: border-box;padding-bottom: 0.4em;background-color: white;}#sk-container-id-1 div.sk-label label {font-family: monospace;font-weight: bold;display: inline-block;line-height: 1.2em;}#sk-container-id-1 div.sk-label-container {text-align: center;}#sk-container-id-1 div.sk-container {/* jupyter's `normalize.less` sets `[hidden] { display: none; }` but bootstrap.min.css set `[hidden] { display: none !important; }` so we also need the `!important` here to be able to override the default hidden behavior on the sphinx rendered scikit-learn.org. See: https://github.com/scikit-learn/scikit-learn/issues/21755 */display: inline-block !important;position: relative;}#sk-container-id-1 div.sk-text-repr-fallback {display: none;}</style><div id=\"sk-container-id-1\" class=\"sk-top-container\"><div class=\"sk-text-repr-fallback\"><pre>XGBClassifier(base_score=None, booster=None, callbacks=None,\n",
       "              colsample_bylevel=None, colsample_bynode=None,\n",
       "              colsample_bytree=None, early_stopping_rounds=None,\n",
       "              enable_categorical=False, eval_metric=None, feature_types=None,\n",
       "              gamma=None, gpu_id=None, grow_policy=None, importance_type=None,\n",
       "              interaction_constraints=None, learning_rate=None, max_bin=None,\n",
       "              max_cat_threshold=None, max_cat_to_onehot=None,\n",
       "              max_delta_step=None, max_depth=None, max_leaves=None,\n",
       "              min_child_weight=None, missing=nan, monotone_constraints=None,\n",
       "              n_estimators=100, n_jobs=None, num_parallel_tree=None,\n",
       "              predictor=None, random_state=None, ...)</pre><b>In a Jupyter environment, please rerun this cell to show the HTML representation or trust the notebook. <br />On GitHub, the HTML representation is unable to render, please try loading this page with nbviewer.org.</b></div><div class=\"sk-container\" hidden><div class=\"sk-item\"><div class=\"sk-estimator sk-toggleable\"><input class=\"sk-toggleable__control sk-hidden--visually\" id=\"sk-estimator-id-1\" type=\"checkbox\" checked><label for=\"sk-estimator-id-1\" class=\"sk-toggleable__label sk-toggleable__label-arrow\">XGBClassifier</label><div class=\"sk-toggleable__content\"><pre>XGBClassifier(base_score=None, booster=None, callbacks=None,\n",
       "              colsample_bylevel=None, colsample_bynode=None,\n",
       "              colsample_bytree=None, early_stopping_rounds=None,\n",
       "              enable_categorical=False, eval_metric=None, feature_types=None,\n",
       "              gamma=None, gpu_id=None, grow_policy=None, importance_type=None,\n",
       "              interaction_constraints=None, learning_rate=None, max_bin=None,\n",
       "              max_cat_threshold=None, max_cat_to_onehot=None,\n",
       "              max_delta_step=None, max_depth=None, max_leaves=None,\n",
       "              min_child_weight=None, missing=nan, monotone_constraints=None,\n",
       "              n_estimators=100, n_jobs=None, num_parallel_tree=None,\n",
       "              predictor=None, random_state=None, ...)</pre></div></div></div></div></div>"
      ],
      "text/plain": [
       "XGBClassifier(base_score=None, booster=None, callbacks=None,\n",
       "              colsample_bylevel=None, colsample_bynode=None,\n",
       "              colsample_bytree=None, early_stopping_rounds=None,\n",
       "              enable_categorical=False, eval_metric=None, feature_types=None,\n",
       "              gamma=None, gpu_id=None, grow_policy=None, importance_type=None,\n",
       "              interaction_constraints=None, learning_rate=None, max_bin=None,\n",
       "              max_cat_threshold=None, max_cat_to_onehot=None,\n",
       "              max_delta_step=None, max_depth=None, max_leaves=None,\n",
       "              min_child_weight=None, missing=nan, monotone_constraints=None,\n",
       "              n_estimators=100, n_jobs=None, num_parallel_tree=None,\n",
       "              predictor=None, random_state=None, ...)"
      ]
     },
     "execution_count": 73,
     "metadata": {},
     "output_type": "execute_result"
    }
   ],
   "source": [
    "clf.fit(X, y)"
   ]
  },
  {
   "cell_type": "code",
   "execution_count": 74,
   "metadata": {},
   "outputs": [
    {
     "data": {
      "text/plain": [
       "0.7437269366609397"
      ]
     },
     "execution_count": 74,
     "metadata": {},
     "output_type": "execute_result"
    }
   ],
   "source": [
    "clf.score(X,y)"
   ]
  },
  {
   "cell_type": "code",
   "execution_count": null,
   "metadata": {},
   "outputs": [],
   "source": [
    "from sklearn.metrics import accuracy_score\n",
    "\n"
   ]
  }
 ],
 "metadata": {
  "kernelspec": {
   "display_name": "Python 3",
   "language": "python",
   "name": "python3"
  },
  "language_info": {
   "codemirror_mode": {
    "name": "ipython",
    "version": 3
   },
   "file_extension": ".py",
   "mimetype": "text/x-python",
   "name": "python",
   "nbconvert_exporter": "python",
   "pygments_lexer": "ipython3",
   "version": "3.8.16"
  },
  "orig_nbformat": 4
 },
 "nbformat": 4,
 "nbformat_minor": 2
}
